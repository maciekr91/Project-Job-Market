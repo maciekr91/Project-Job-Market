{
 "cells": [
  {
   "cell_type": "code",
   "execution_count": 127,
   "id": "5def1627",
   "metadata": {},
   "outputs": [],
   "source": [
    "from bs4 import BeautifulSoup\n",
    "import requests\n",
    "import pandas as pd\n",
    "import time\n",
    "import re\n",
    "import pickle\n",
    "import os\n",
    "from datetime import datetime, date, timedelta\n",
    "\n",
    "import selenium\n",
    "\n",
    "from selenium import webdriver\n",
    "from selenium.webdriver.chrome.service import Service\n",
    "from selenium.webdriver.common.by import By\n",
    "\n",
    "from selenium.webdriver.chrome.options import Options\n",
    "from selenium.webdriver.support.ui import WebDriverWait\n",
    "from selenium.webdriver.support import expected_conditions as EC\n",
    "from selenium.webdriver.common.action_chains import ActionChains"
   ]
  },
  {
   "cell_type": "code",
   "execution_count": 2,
   "id": "fefcfa92",
   "metadata": {},
   "outputs": [],
   "source": [
    "offers_db = pickle.load(open('db/offers_db', 'rb'))"
   ]
  },
  {
   "cell_type": "code",
   "execution_count": 3,
   "id": "8228ece1",
   "metadata": {},
   "outputs": [
    {
     "data": {
      "text/html": [
       "<div>\n",
       "<style scoped>\n",
       "    .dataframe tbody tr th:only-of-type {\n",
       "        vertical-align: middle;\n",
       "    }\n",
       "\n",
       "    .dataframe tbody tr th {\n",
       "        vertical-align: top;\n",
       "    }\n",
       "\n",
       "    .dataframe thead th {\n",
       "        text-align: right;\n",
       "    }\n",
       "</style>\n",
       "<table border=\"1\" class=\"dataframe\">\n",
       "  <thead>\n",
       "    <tr style=\"text-align: right;\">\n",
       "      <th></th>\n",
       "      <th>site</th>\n",
       "      <th>experience</th>\n",
       "      <th>name</th>\n",
       "      <th>company</th>\n",
       "      <th>location</th>\n",
       "      <th>work_mode</th>\n",
       "      <th>salary_avg</th>\n",
       "      <th>salary_low</th>\n",
       "      <th>salary_high</th>\n",
       "      <th>technologies</th>\n",
       "      <th>link</th>\n",
       "      <th>added_at</th>\n",
       "      <th>voivodeship</th>\n",
       "    </tr>\n",
       "  </thead>\n",
       "  <tbody>\n",
       "    <tr>\n",
       "      <th>0</th>\n",
       "      <td>justjoin.it</td>\n",
       "      <td>junior</td>\n",
       "      <td>Software Developer Intern</td>\n",
       "      <td>AI Clearing</td>\n",
       "      <td>Warszawa</td>\n",
       "      <td>Not specified</td>\n",
       "      <td>6000.0</td>\n",
       "      <td>5000.0</td>\n",
       "      <td>7000.0</td>\n",
       "      <td>[SQL, Python, Git]</td>\n",
       "      <td>https://justjoin.it/offers/ai-clearing-softwar...</td>\n",
       "      <td>2024-02-15 11:41</td>\n",
       "      <td>mazowieckie</td>\n",
       "    </tr>\n",
       "    <tr>\n",
       "      <th>1</th>\n",
       "      <td>justjoin.it</td>\n",
       "      <td>junior</td>\n",
       "      <td>AI/ML Engineer</td>\n",
       "      <td>MindPal</td>\n",
       "      <td>Warszawa</td>\n",
       "      <td>Praca zdalna</td>\n",
       "      <td>8500.0</td>\n",
       "      <td>7000.0</td>\n",
       "      <td>10000.0</td>\n",
       "      <td>[AI, Machine Learning, C++]</td>\n",
       "      <td>https://justjoin.it/offers/mindpal-ai-ml-engin...</td>\n",
       "      <td>2024-02-15 11:41</td>\n",
       "      <td>mazowieckie</td>\n",
       "    </tr>\n",
       "    <tr>\n",
       "      <th>2</th>\n",
       "      <td>justjoin.it</td>\n",
       "      <td>junior</td>\n",
       "      <td>Junior Data Management Specialist</td>\n",
       "      <td>DXC Technology</td>\n",
       "      <td>Warszawa</td>\n",
       "      <td>Praca zdalna</td>\n",
       "      <td>NaN</td>\n",
       "      <td>NaN</td>\n",
       "      <td>NaN</td>\n",
       "      <td>[data analytics, SQL, Python]</td>\n",
       "      <td>https://justjoin.it/offers/dxc-technology-juni...</td>\n",
       "      <td>2024-02-15 11:41</td>\n",
       "      <td>mazowieckie</td>\n",
       "    </tr>\n",
       "    <tr>\n",
       "      <th>3</th>\n",
       "      <td>justjoin.it</td>\n",
       "      <td>junior</td>\n",
       "      <td>Junior Python / DevOps Engineer</td>\n",
       "      <td>digatus</td>\n",
       "      <td>Warszawa</td>\n",
       "      <td>Praca zdalna</td>\n",
       "      <td>11000.0</td>\n",
       "      <td>9000.0</td>\n",
       "      <td>13000.0</td>\n",
       "      <td>[Docker, DevOps, Python]</td>\n",
       "      <td>https://justjoin.it/offers/digatus-junior-pyth...</td>\n",
       "      <td>2024-02-15 11:41</td>\n",
       "      <td>mazowieckie</td>\n",
       "    </tr>\n",
       "    <tr>\n",
       "      <th>4</th>\n",
       "      <td>justjoin.it</td>\n",
       "      <td>junior</td>\n",
       "      <td>Software Engineer, Early Career</td>\n",
       "      <td>Affirm</td>\n",
       "      <td>Warszawa</td>\n",
       "      <td>Not specified</td>\n",
       "      <td>16450.0</td>\n",
       "      <td>16450.0</td>\n",
       "      <td>16450.0</td>\n",
       "      <td>[JavaScript, Kotlin, C++]</td>\n",
       "      <td>https://justjoin.it/offers/affirm-software-eng...</td>\n",
       "      <td>2024-02-15 11:41</td>\n",
       "      <td>mazowieckie</td>\n",
       "    </tr>\n",
       "    <tr>\n",
       "      <th>...</th>\n",
       "      <td>...</td>\n",
       "      <td>...</td>\n",
       "      <td>...</td>\n",
       "      <td>...</td>\n",
       "      <td>...</td>\n",
       "      <td>...</td>\n",
       "      <td>...</td>\n",
       "      <td>...</td>\n",
       "      <td>...</td>\n",
       "      <td>...</td>\n",
       "      <td>...</td>\n",
       "      <td>...</td>\n",
       "      <td>...</td>\n",
       "    </tr>\n",
       "    <tr>\n",
       "      <th>1641</th>\n",
       "      <td>pracuj.pl</td>\n",
       "      <td>mid</td>\n",
       "      <td>Specjalista ds. Narzędzi i Analiz BI</td>\n",
       "      <td>PKO Bank Polski SA</td>\n",
       "      <td>Warszawa</td>\n",
       "      <td>Praca hybrydowa</td>\n",
       "      <td>NaN</td>\n",
       "      <td>NaN</td>\n",
       "      <td>NaN</td>\n",
       "      <td>[Python, SQL]</td>\n",
       "      <td>https://www.pracuj.pl/praca/specjalista-ds-nar...</td>\n",
       "      <td>2024-02-28 10:03</td>\n",
       "      <td>mazowieckie</td>\n",
       "    </tr>\n",
       "    <tr>\n",
       "      <th>1642</th>\n",
       "      <td>pracuj.pl</td>\n",
       "      <td>junior</td>\n",
       "      <td>Junior Data Scientist</td>\n",
       "      <td>A.T. Kearney Sp. z o.o.</td>\n",
       "      <td>Warszawa</td>\n",
       "      <td>Praca hybrydowa</td>\n",
       "      <td>10750.0</td>\n",
       "      <td>9500.0</td>\n",
       "      <td>12000.0</td>\n",
       "      <td>[SQL, Python]</td>\n",
       "      <td>https://www.pracuj.pl/praca/junior-data-scient...</td>\n",
       "      <td>2024-02-28 10:03</td>\n",
       "      <td>mazowieckie</td>\n",
       "    </tr>\n",
       "    <tr>\n",
       "      <th>1643</th>\n",
       "      <td>pracuj.pl</td>\n",
       "      <td>junior</td>\n",
       "      <td>Młodszy Analityk Danych</td>\n",
       "      <td>Hart Sp. z o.o.</td>\n",
       "      <td>Wrocław</td>\n",
       "      <td>Praca zdalna</td>\n",
       "      <td>NaN</td>\n",
       "      <td>NaN</td>\n",
       "      <td>NaN</td>\n",
       "      <td>[SQL, Oracle]</td>\n",
       "      <td>https://www.pracuj.pl/praca/mlodszy-analityk-d...</td>\n",
       "      <td>2024-02-28 10:03</td>\n",
       "      <td>dolnośląskie</td>\n",
       "    </tr>\n",
       "    <tr>\n",
       "      <th>1644</th>\n",
       "      <td>pracuj.pl</td>\n",
       "      <td>mid</td>\n",
       "      <td>Analityk IT / Feature Engineer</td>\n",
       "      <td>DomData AG Sp. z o.o.</td>\n",
       "      <td>Katowice</td>\n",
       "      <td>Praca zdalna</td>\n",
       "      <td>NaN</td>\n",
       "      <td>NaN</td>\n",
       "      <td>NaN</td>\n",
       "      <td>[UML, BPMN, SQL, SOAP]</td>\n",
       "      <td>https://www.pracuj.pl/praca/analityk-it-featur...</td>\n",
       "      <td>2024-02-28 10:03</td>\n",
       "      <td>śląskie</td>\n",
       "    </tr>\n",
       "    <tr>\n",
       "      <th>1645</th>\n",
       "      <td>pracuj.pl</td>\n",
       "      <td>senior</td>\n",
       "      <td>Procurement Senior Data Analyst</td>\n",
       "      <td>CBRE Business Services Organisation Sp. z o.o.</td>\n",
       "      <td>Warszawa</td>\n",
       "      <td>Praca hybrydowa</td>\n",
       "      <td>NaN</td>\n",
       "      <td>NaN</td>\n",
       "      <td>NaN</td>\n",
       "      <td>[SQL, Jira, Confluence, Python, Azure SQL]</td>\n",
       "      <td>https://www.pracuj.pl/praca/procurement-senior...</td>\n",
       "      <td>2024-02-28 10:14</td>\n",
       "      <td>mazowieckie</td>\n",
       "    </tr>\n",
       "  </tbody>\n",
       "</table>\n",
       "<p>1646 rows × 13 columns</p>\n",
       "</div>"
      ],
      "text/plain": [
       "             site experience                                  name  \\\n",
       "0     justjoin.it     junior             Software Developer Intern   \n",
       "1     justjoin.it     junior                        AI/ML Engineer   \n",
       "2     justjoin.it     junior     Junior Data Management Specialist   \n",
       "3     justjoin.it     junior       Junior Python / DevOps Engineer   \n",
       "4     justjoin.it     junior       Software Engineer, Early Career   \n",
       "...           ...        ...                                   ...   \n",
       "1641    pracuj.pl        mid  Specjalista ds. Narzędzi i Analiz BI   \n",
       "1642    pracuj.pl     junior                 Junior Data Scientist   \n",
       "1643    pracuj.pl     junior               Młodszy Analityk Danych   \n",
       "1644    pracuj.pl        mid        Analityk IT / Feature Engineer   \n",
       "1645    pracuj.pl     senior       Procurement Senior Data Analyst   \n",
       "\n",
       "                                             company  location  \\\n",
       "0                                        AI Clearing  Warszawa   \n",
       "1                                            MindPal  Warszawa   \n",
       "2                                     DXC Technology  Warszawa   \n",
       "3                                            digatus  Warszawa   \n",
       "4                                             Affirm  Warszawa   \n",
       "...                                              ...       ...   \n",
       "1641                              PKO Bank Polski SA  Warszawa   \n",
       "1642                         A.T. Kearney Sp. z o.o.  Warszawa   \n",
       "1643                                 Hart Sp. z o.o.   Wrocław   \n",
       "1644                           DomData AG Sp. z o.o.  Katowice   \n",
       "1645  CBRE Business Services Organisation Sp. z o.o.  Warszawa   \n",
       "\n",
       "            work_mode  salary_avg  salary_low  salary_high  \\\n",
       "0       Not specified      6000.0      5000.0       7000.0   \n",
       "1        Praca zdalna      8500.0      7000.0      10000.0   \n",
       "2        Praca zdalna         NaN         NaN          NaN   \n",
       "3        Praca zdalna     11000.0      9000.0      13000.0   \n",
       "4       Not specified     16450.0     16450.0      16450.0   \n",
       "...               ...         ...         ...          ...   \n",
       "1641  Praca hybrydowa         NaN         NaN          NaN   \n",
       "1642  Praca hybrydowa     10750.0      9500.0      12000.0   \n",
       "1643     Praca zdalna         NaN         NaN          NaN   \n",
       "1644     Praca zdalna         NaN         NaN          NaN   \n",
       "1645  Praca hybrydowa         NaN         NaN          NaN   \n",
       "\n",
       "                                    technologies  \\\n",
       "0                             [SQL, Python, Git]   \n",
       "1                    [AI, Machine Learning, C++]   \n",
       "2                  [data analytics, SQL, Python]   \n",
       "3                       [Docker, DevOps, Python]   \n",
       "4                      [JavaScript, Kotlin, C++]   \n",
       "...                                          ...   \n",
       "1641                               [Python, SQL]   \n",
       "1642                               [SQL, Python]   \n",
       "1643                               [SQL, Oracle]   \n",
       "1644                      [UML, BPMN, SQL, SOAP]   \n",
       "1645  [SQL, Jira, Confluence, Python, Azure SQL]   \n",
       "\n",
       "                                                   link          added_at  \\\n",
       "0     https://justjoin.it/offers/ai-clearing-softwar...  2024-02-15 11:41   \n",
       "1     https://justjoin.it/offers/mindpal-ai-ml-engin...  2024-02-15 11:41   \n",
       "2     https://justjoin.it/offers/dxc-technology-juni...  2024-02-15 11:41   \n",
       "3     https://justjoin.it/offers/digatus-junior-pyth...  2024-02-15 11:41   \n",
       "4     https://justjoin.it/offers/affirm-software-eng...  2024-02-15 11:41   \n",
       "...                                                 ...               ...   \n",
       "1641  https://www.pracuj.pl/praca/specjalista-ds-nar...  2024-02-28 10:03   \n",
       "1642  https://www.pracuj.pl/praca/junior-data-scient...  2024-02-28 10:03   \n",
       "1643  https://www.pracuj.pl/praca/mlodszy-analityk-d...  2024-02-28 10:03   \n",
       "1644  https://www.pracuj.pl/praca/analityk-it-featur...  2024-02-28 10:03   \n",
       "1645  https://www.pracuj.pl/praca/procurement-senior...  2024-02-28 10:14   \n",
       "\n",
       "       voivodeship  \n",
       "0      mazowieckie  \n",
       "1      mazowieckie  \n",
       "2      mazowieckie  \n",
       "3      mazowieckie  \n",
       "4      mazowieckie  \n",
       "...            ...  \n",
       "1641   mazowieckie  \n",
       "1642   mazowieckie  \n",
       "1643  dolnośląskie  \n",
       "1644       śląskie  \n",
       "1645   mazowieckie  \n",
       "\n",
       "[1646 rows x 13 columns]"
      ]
     },
     "execution_count": 3,
     "metadata": {},
     "output_type": "execute_result"
    }
   ],
   "source": [
    "offers_db"
   ]
  },
  {
   "cell_type": "code",
   "execution_count": 237,
   "id": "c4ec8a4b",
   "metadata": {},
   "outputs": [],
   "source": [
    "# przeniesione\n",
    "current_dir = os.getcwd()\n",
    "driver_path = os.path.join(current_dir, 'app/chromedriver.exe')\n",
    "service = Service(executable_path=driver_path)\n",
    "chrome_options = Options()\n",
    "chrome_options.add_argument(\"--disable-popup-blocking\")\n",
    "chrome_options.add_argument(\"--disable-notifications\")\n",
    "driver = webdriver.Chrome(service=service, options=chrome_options)\n",
    "driver.set_window_size(2048, 1536)\n",
    "\n",
    "url='https://it.pracuj.pl/praca?pn=2&its=big-data-science%2Cbusiness-analytics%2Cai-ml&itth=37%2C36'\n",
    "driver.get(url)"
   ]
  },
  {
   "cell_type": "code",
   "execution_count": 238,
   "id": "52e438da",
   "metadata": {},
   "outputs": [],
   "source": [
    "try:\n",
    "    WebDriverWait(driver, 1).until(EC.visibility_of_element_located((By.CSS_SELECTOR, \"div.popup_p1c6glb0\")))\n",
    "    close_button = driver.find_element(By.CSS_SELECTOR, \"div.popup_p1c6glb0\")\n",
    "    close_button.click()\n",
    "except Exception as e:\n",
    "    print(\"Exception while closing popup: \", e)\n",
    "    \n",
    "try:\n",
    "    WebDriverWait(driver, 1).until(EC.visibility_of_element_located((By.CSS_SELECTOR, \"button[data-test='button-submitCookie']\")))\n",
    "    accept_button = driver.find_element(By.CSS_SELECTOR, \"button[data-test='button-submitCookie']\")\n",
    "    accept_button.click()\n",
    "except Exception as e:\n",
    "    print(\"Nie udało się kliknąć przycisku 'Akceptuj wszystkie'\", e)"
   ]
  },
  {
   "cell_type": "code",
   "execution_count": 239,
   "id": "c54e9327",
   "metadata": {},
   "outputs": [],
   "source": [
    "elements1 = driver.find_elements(By.CSS_SELECTOR, \"h5.tiles_r1rl4c7t.size-caption.core_t1rst47b[data-test='text-region']\")"
   ]
  },
  {
   "cell_type": "code",
   "execution_count": 240,
   "id": "d0da2ac7",
   "metadata": {},
   "outputs": [],
   "source": [
    "elements2 = driver.find_elements(By.CSS_SELECTOR, \"h5.tiles_ttlhhld.size-caption.core_t1rst47b[data-test='text-region']\")"
   ]
  },
  {
   "cell_type": "code",
   "execution_count": 241,
   "id": "72c917eb",
   "metadata": {},
   "outputs": [],
   "source": [
    "elements = elements1 + elements2"
   ]
  },
  {
   "cell_type": "code",
   "execution_count": 242,
   "id": "49c6210f",
   "metadata": {},
   "outputs": [
    {
     "name": "stdout",
     "output_type": "stream",
     "text": [
      "4 lokalizacje\n",
      "2 lokalizacje\n",
      "Miejsce pracy:Cała Polska (praca zdalna)\n",
      "Siedziba firmy:12 lokalizacji\n",
      "Miejsce pracy:Cała Polska (praca zdalna)\n",
      "Siedziba firmy:2 lokalizacje\n"
     ]
    }
   ],
   "source": [
    "actions = ActionChains(driver)\n",
    "\n",
    "for element in elements:\n",
    "    localization = element.text\n",
    "    try:\n",
    "        if localization and 'lokalizac' in localization:\n",
    "            print(localization)\n",
    "            actions.move_to_element(element).click().perform()\n",
    "    except Exception as e:\n",
    "        print(f\"Nie udało się kliknąć przycisku {localization}, ponieważ: \\n\", e)\n",
    "        "
   ]
  },
  {
   "cell_type": "code",
   "execution_count": null,
   "id": "666d01bd",
   "metadata": {},
   "outputs": [],
   "source": []
  },
  {
   "cell_type": "code",
   "execution_count": null,
   "id": "b01b5607",
   "metadata": {},
   "outputs": [],
   "source": []
  },
  {
   "cell_type": "code",
   "execution_count": null,
   "id": "4843a3d0",
   "metadata": {},
   "outputs": [],
   "source": []
  },
  {
   "cell_type": "code",
   "execution_count": null,
   "id": "c1f704ce",
   "metadata": {},
   "outputs": [],
   "source": []
  },
  {
   "cell_type": "code",
   "execution_count": null,
   "id": "6ce6a5e1",
   "metadata": {},
   "outputs": [],
   "source": []
  },
  {
   "cell_type": "code",
   "execution_count": 177,
   "id": "528af7ca",
   "metadata": {},
   "outputs": [],
   "source": [
    "soup = BeautifulSoup(driver.page_source, 'html.parser')"
   ]
  },
  {
   "cell_type": "code",
   "execution_count": 178,
   "id": "c9fe8bb6",
   "metadata": {
    "scrolled": false
   },
   "outputs": [
    {
     "name": "stdout",
     "output_type": "stream",
     "text": [
      "0: Warszawa\n",
      "1: Kraków, Dębniki\n",
      "2: Warszawa\n",
      "3: Kraków, Dębniki\n",
      "4: Katowice\n",
      "5: Miejsce pracy:Cała Polska (praca zdalna)Siedziba firmy:Warszawa\n",
      "6: Dąbrowa Górnicza\n",
      "7: Miejsce pracy:Cała Polska (praca zdalna)Siedziba firmy:Warszawa, Mokotów\n",
      "8: Miejsce pracy:Cała Polska (praca zdalna)Siedziba firmy:Warszawa, Mokotów\n",
      "9: Miejsce pracy:Cała Polska (praca zdalna)Siedziba firmy:Warszawa, Praga-Południe\n",
      "10: Gdańsk, Oliwa\n",
      "11: Miejsce pracy:Cała Polska (praca zdalna)Siedziba firmy:Warszawa, Śródmieście\n",
      "12: Poznań, Jeżyce\n",
      "13: Miejsce pracy:Cała Polska (praca zdalna)Siedziba firmy:Warszawa\n",
      "14: Miejsce pracy:Cała Polska (praca zdalna)Siedziba firmy:Częstochowa, Śródmieście\n",
      "15: Miejsce pracy:Cała Polska (praca zdalna)Siedziba firmy:Toruń, Wrzosy\n",
      "16: Warszawa, Włochy\n",
      "17: Miejsce pracy:Cała Polska (praca zdalna)Siedziba firmy:Rzeszów\n",
      "18: Miejsce pracy:Cała Polska (praca zdalna)Siedziba firmy:Rzeszów\n",
      "19: Miejsce pracy:Cała Polska (praca zdalna)Siedziba firmy:Rzeszów\n",
      "20: Miejsce pracy:Cała Polska (praca zdalna)Siedziba firmy:Rzeszów\n",
      "21: Miejsce pracy:Cała Polska (praca zdalna)Siedziba firmy:Rzeszów\n",
      "22: 2 lokalizacje\n",
      "23: Warszawa, Wola\n",
      "24: Macierzysz (pow. warszawski zachodni)\n",
      "25: Wrocław\n",
      "26: Miejsce pracy:Cała Polska (praca zdalna)Siedziba firmy:Łódź, Polesie\n",
      "27: Miejsce pracy:Cała Polska (praca zdalna)Siedziba firmy:Warszawa, Śródmieście\n",
      "28: Miejsce pracy:Cała Polska (praca zdalna)Siedziba firmy:Warszawa, Praga-Południe\n",
      "29: Warszawa, Mokotów\n",
      "30: Poznań, Wilda\n",
      "31: Warszawa\n",
      "32: Miejsce pracy:Cała Polska (praca zdalna)Siedziba firmy:Warszawa, Wola\n",
      "33: Warszawa\n",
      "34: Miejsce pracy:Cała Polska (praca zdalna)Siedziba firmy:Wrocław, Fabryczna\n",
      "35: Miejsce pracy:Cała Polska (praca zdalna)Siedziba firmy:Warszawa, Wola\n",
      "36: Miejsce pracy:Cała Polska (praca zdalna)Siedziba firmy:Warszawa, Ochota\n",
      "37: Tychy\n",
      "38: Sopot\n",
      "39: Miejsce pracy:Cała Polska (praca zdalna)Siedziba firmy:Warszawa, Śródmieście\n",
      "40: Wrocław, Stare Miasto\n",
      "41: Wrocław, Stare Miasto\n",
      "42: Miejsce pracy:Cała Polska (praca zdalna)Siedziba firmy:Kraków\n",
      "43: Miejsce pracy:Cała Polska (praca zdalna)Siedziba firmy:Kraków\n",
      "44: Kraków\n",
      "45: Miejsce pracy:Cała Polska (praca zdalna)Siedziba firmy:Gdańsk, Oliwa\n",
      "46: 16 lokalizacji\n",
      "47: Turka (pow. lubelski)\n",
      "48: Warszawa, Praga-Południe\n"
     ]
    }
   ],
   "source": [
    "i=0\n",
    "for offer in soup.find_all('div', class_=\"be8lukl core_po9665q\"):\n",
    "    whole_offer = offer.find('div', class_=\"c1fljezf\")\n",
    "    offer_details = whole_offer.find('div', class_=\"c1wygkax\")\n",
    "    location = offer_details.h5.text\n",
    "    print(f'{i}: {location}')\n",
    "    i+=1"
   ]
  },
  {
   "cell_type": "code",
   "execution_count": null,
   "id": "7d02355b",
   "metadata": {},
   "outputs": [],
   "source": []
  },
  {
   "cell_type": "code",
   "execution_count": 229,
   "id": "0bab55fd",
   "metadata": {},
   "outputs": [
    {
     "name": "stdout",
     "output_type": "stream",
     "text": [
      "simple location: 16 lokalizacji\n",
      "IF\n",
      "Białystok\n",
      "Bydgoszcz\n",
      "Gdańsk\n",
      "Katowice\n",
      "Kielce\n",
      "Kraków\n",
      "Lublin\n",
      "Łódź\n",
      "Olsztyn\n",
      "Opole\n",
      "Poznań\n",
      "Rzeszów\n",
      "Szczecin\n",
      "Warszawa\n",
      "Wrocław\n",
      "Zielona Góra\n",
      "https://www.pracuj.pl/praca/senior-java-developer-bialystok,oferta,1003181326?s=1f7c2c91&searchId=MTcwOTIwMTcwNzkzOC4wNjQ=\n",
      "['Białystok', 'Bydgoszcz', 'Gdańsk', 'Katowice', 'Kielce', 'Kraków', 'Lublin', 'Łódź', 'Olsztyn', 'Opole', 'Poznań', 'Rzeszów', 'Szczecin', 'Warszawa', 'Wrocław', 'Zielona Góra']\n"
     ]
    }
   ],
   "source": [
    "links = []\n",
    "offers = []\n",
    "\n",
    "offer = soup.find_all('div', class_=\"be8lukl core_po9665q\")[46]\n",
    "\n",
    "whole_offer = offer.find('div', class_=\"c1fljezf\")\n",
    "offer_details = whole_offer.find('div', class_=\"c1wygkax\")\n",
    "keywords = whole_offer.find_all('div', class_='b1fdzgc4')\n",
    "\n",
    "simple_location = offer_details.h5.text\n",
    "\n",
    "if 'lokalizacj' in simple_location:\n",
    "    locations = whole_offer.find_all('div', class_=\"tiles_lov4ye4\")\n",
    "    multi_locations = []\n",
    "    \n",
    "    for loc in locations:\n",
    "        single_location = loc.a.text\n",
    "        multi_locations.append(single_location)\n",
    "        \n",
    "    link = locations[0].a['href']\n",
    "    location = multi_locations\n",
    "    \n",
    "else:\n",
    "    link = offer_details.a['href']\n",
    "    location = simple_location\n",
    "\n",
    "if link in links:\n",
    "\n",
    "    return None, links\n",
    "\n",
    "links.append(link)\n",
    "\n",
    "experience = offer_details.find('li').text\n",
    "name = offer_details.h2.text\n",
    "company = offer_details.h4.text\n",
    "work_mode = offer_details.find_all('li')[-1].text\n",
    "try:\n",
    "    salary = offer_details.find('span', class_=\"s1jki39v\").text.replace(u'\\xa0', u'')\n",
    "except (IndexError, AttributeError):\n",
    "    salary = 'Undisclosed Salary'\n",
    "techs = [keyword.text for keyword in keywords[0].find_all('span')] if keywords else []\n",
    "\n",
    "new_offer = [experience, name, company, location, work_mode, salary, techs, link]"
   ]
  },
  {
   "cell_type": "code",
   "execution_count": 230,
   "id": "2d4bbbff",
   "metadata": {},
   "outputs": [
    {
     "data": {
      "text/plain": [
       "['Starszy specjalista (Senior)',\n",
       " 'Senior Java Developer',\n",
       " 'Boldare',\n",
       " ['Białystok',\n",
       "  'Bydgoszcz',\n",
       "  'Gdańsk',\n",
       "  'Katowice',\n",
       "  'Kielce',\n",
       "  'Kraków',\n",
       "  'Lublin',\n",
       "  'Łódź',\n",
       "  'Olsztyn',\n",
       "  'Opole',\n",
       "  'Poznań',\n",
       "  'Rzeszów',\n",
       "  'Szczecin',\n",
       "  'Warszawa',\n",
       "  'Wrocław',\n",
       "  'Zielona Góra'],\n",
       " 'Praca hybrydowa',\n",
       " '16700–30300zł/ mies. (zal. od umowy)',\n",
       " ['Java',\n",
       "  'Spring Boot',\n",
       "  'Hibernate',\n",
       "  'AWS',\n",
       "  'PostgreSQL',\n",
       "  'MS SQL',\n",
       "  'Maven',\n",
       "  'Gradle',\n",
       "  'JUnit',\n",
       "  'Mockito',\n",
       "  'Docker',\n",
       "  'Git'],\n",
       " 'https://www.pracuj.pl/praca/senior-java-developer-bialystok,oferta,1003181326?s=1f7c2c91&searchId=MTcwOTIwMTcwNzkzOC4wNjQ=']"
      ]
     },
     "execution_count": 230,
     "metadata": {},
     "output_type": "execute_result"
    }
   ],
   "source": [
    "new_offer"
   ]
  },
  {
   "cell_type": "code",
   "execution_count": 206,
   "id": "606ce782",
   "metadata": {},
   "outputs": [],
   "source": [
    "offer = soup.find_all('div', class_=\"be8lukl core_po9665q\")[46]\n",
    "whole_offer = offer.find('div', class_=\"c1fljezf\")\n",
    "offer_details = whole_offer.find('div', class_=\"c1wygkax\")\n",
    "keywords = whole_offer.find_all('div', class_='b1fdzgc4')\n",
    "link = offer_details.a['href']\n",
    "company = offer_details.h4.text\n",
    "location = offer_details.h5.text\n",
    "name = offer_details.h2.text"
   ]
  },
  {
   "cell_type": "code",
   "execution_count": 207,
   "id": "ea17fcd7",
   "metadata": {},
   "outputs": [
    {
     "data": {
      "text/plain": [
       "'16 lokalizacji'"
      ]
     },
     "execution_count": 207,
     "metadata": {},
     "output_type": "execute_result"
    }
   ],
   "source": [
    "location"
   ]
  },
  {
   "cell_type": "code",
   "execution_count": 208,
   "id": "dc784b30",
   "metadata": {},
   "outputs": [],
   "source": [
    "localizations = whole_offer.find_all('div', class_=\"tiles_lov4ye4\")"
   ]
  },
  {
   "cell_type": "code",
   "execution_count": 214,
   "id": "59bcf5e4",
   "metadata": {},
   "outputs": [
    {
     "data": {
      "text/plain": [
       "'https://www.pracuj.pl/praca/senior-java-developer-bialystok,oferta,1003181326?s=1f7c2c91&searchId=MTcwOTIwMTcwNzkzOC4wNjQ='"
      ]
     },
     "execution_count": 214,
     "metadata": {},
     "output_type": "execute_result"
    }
   ],
   "source": [
    "localizations[0].a['href']"
   ]
  },
  {
   "cell_type": "code",
   "execution_count": 213,
   "id": "6aeb1f6b",
   "metadata": {},
   "outputs": [
    {
     "data": {
      "text/plain": [
       "'Białystok'"
      ]
     },
     "execution_count": 213,
     "metadata": {},
     "output_type": "execute_result"
    }
   ],
   "source": [
    "localizations[0].a.text"
   ]
  },
  {
   "cell_type": "code",
   "execution_count": null,
   "id": "ac4d55d6",
   "metadata": {},
   "outputs": [],
   "source": [
    "<div class=\"tiles_lov4ye4\"><a href=\"https://www.pracuj.pl/praca/senior-java-developer-bialystok,oferta,1003181326?s=1f7c2c91&amp;searchId=MTcwOTIwMTcwNzkzOC4wNjQ=\" data-test=\"link-offer\" class=\"core_btsqgu core_n194fgoq\">Białystok</a><span class=\"tiles_s84op4y core_c1s7lqrd\"><span aria-hidden=\"true\" class=\"core_ig18o8w size-medium position-center\"><svg viewBox=\"0 0 20 20\" fill=\"none\"><path d=\"M9.605 1.271a.419.419 0 0 1 .783 0l2.12 6.008h5.984a.418.418 0 0 1 .272.737l-5 4.146 2.092 6.287a.419.419 0 0 1-.644.47l-5.216-3.827-5.219 3.827a.419.419 0 0 1-.642-.47l2.093-6.287-5.001-4.146a.419.419 0 0 1 .272-.737h5.985l2.12-6.008z\" stroke=\"#676B8D\" stroke-width=\"1.6\" stroke-linecap=\"round\" stroke-linejoin=\"round\"></path></svg></span></span></div>"
   ]
  },
  {
   "cell_type": "code",
   "execution_count": null,
   "id": "fa5b77d5",
   "metadata": {},
   "outputs": [],
   "source": []
  },
  {
   "cell_type": "code",
   "execution_count": null,
   "id": "fcf50bba",
   "metadata": {},
   "outputs": [],
   "source": []
  },
  {
   "cell_type": "code",
   "execution_count": 191,
   "id": "57612525",
   "metadata": {},
   "outputs": [
    {
     "data": {
      "text/plain": [
       "'https://pracodawcy.pracuj.pl/company/13894778'"
      ]
     },
     "execution_count": 191,
     "metadata": {},
     "output_type": "execute_result"
    }
   ],
   "source": [
    "<div class=\"tiles_l17prsi5\"><div class=\"tiles_lov4ye4\"><a href=\"https://www.pracuj.pl/praca/senior-java-developer-bialystok,oferta,1003181326?s=1f7c2c91&amp;searchId=MTcwOTIwMTcwNzkzOC4wNjQ=\" data-test=\"link-offer\" class=\"core_btsqgu core_n194fgoq\">Białystok</a><span class=\"tiles_s84op4y core_c1s7lqrd\"><span aria-hidden=\"true\" class=\"core_ig18o8w size-medium position-center\"><svg viewBox=\"0 0 20 20\" fill=\"none\"><path d=\"M9.605 1.271a.419.419 0 0 1 .783 0l2.12 6.008h5.984a.418.418 0 0 1 .272.737l-5 4.146 2.092 6.287a.419.419 0 0 1-.644.47l-5.216-3.827-5.219 3.827a.419.419 0 0 1-.642-.47l2.093-6.287-5.001-4.146a.419.419 0 0 1 .272-.737h5.985l2.12-6.008z\" stroke=\"#676B8D\" stroke-width=\"1.6\" stroke-linecap=\"round\" stroke-linejoin=\"round\"></path></svg></span></span></div><div class=\"tiles_lov4ye4\"><a href=\"https://www.pracuj.pl/praca/senior-java-developer-bydgoszcz,oferta,1003181324?s=1f7c2c91&amp;searchId=MTcwOTIwMTcwNzkzOC4wNjQ=\" data-test=\"link-offer\" class=\"core_btsqgu core_n194fgoq\">Bydgoszcz</a><span class=\"tiles_s84op4y core_c1s7lqrd\"><span aria-hidden=\"true\" class=\"core_ig18o8w size-medium position-center\"><svg viewBox=\"0 0 20 20\" fill=\"none\"><path d=\"M9.605 1.271a.419.419 0 0 1 .783 0l2.12 6.008h5.984a.418.418 0 0 1 .272.737l-5 4.146 2.092 6.287a.419.419 0 0 1-.644.47l-5.216-3.827-5.219 3.827a.419.419 0 0 1-.642-.47l2.093-6.287-5.001-4.146a.419.419 0 0 1 .272-.737h5.985l2.12-6.008z\" stroke=\"#676B8D\" stroke-width=\"1.6\" stroke-linecap=\"round\" stroke-linejoin=\"round\"></path></svg></span></span></div><div class=\"tiles_lov4ye4\"><a href=\"https://www.pracuj.pl/praca/senior-java-developer-gdansk,oferta,1003181322?s=1f7c2c91&amp;searchId=MTcwOTIwMTcwNzkzOC4wNjQ=\" data-test=\"link-offer\" class=\"core_btsqgu core_n194fgoq\">Gdańsk</a><span class=\"tiles_s84op4y core_c1s7lqrd\"><span aria-hidden=\"true\" class=\"core_ig18o8w size-medium position-center\"><svg viewBox=\"0 0 20 20\" fill=\"none\"><path d=\"M9.605 1.271a.419.419 0 0 1 .783 0l2.12 6.008h5.984a.418.418 0 0 1 .272.737l-5 4.146 2.092 6.287a.419.419 0 0 1-.644.47l-5.216-3.827-5.219 3.827a.419.419 0 0 1-.642-.47l2.093-6.287-5.001-4.146a.419.419 0 0 1 .272-.737h5.985l2.12-6.008z\" stroke=\"#676B8D\" stroke-width=\"1.6\" stroke-linecap=\"round\" stroke-linejoin=\"round\"></path></svg></span></span></div><div class=\"tiles_lov4ye4\"><a href=\"https://www.pracuj.pl/praca/senior-java-developer-katowice,oferta,1003181320?s=1f7c2c91&amp;searchId=MTcwOTIwMTcwNzkzOC4wNjQ=\" data-test=\"link-offer\" class=\"core_btsqgu core_n194fgoq\">Katowice</a><span class=\"tiles_s84op4y core_c1s7lqrd\"><span aria-hidden=\"true\" class=\"core_ig18o8w size-medium position-center\"><svg viewBox=\"0 0 20 20\" fill=\"none\"><path d=\"M9.605 1.271a.419.419 0 0 1 .783 0l2.12 6.008h5.984a.418.418 0 0 1 .272.737l-5 4.146 2.092 6.287a.419.419 0 0 1-.644.47l-5.216-3.827-5.219 3.827a.419.419 0 0 1-.642-.47l2.093-6.287-5.001-4.146a.419.419 0 0 1 .272-.737h5.985l2.12-6.008z\" stroke=\"#676B8D\" stroke-width=\"1.6\" stroke-linecap=\"round\" stroke-linejoin=\"round\"></path></svg></span></span></div><div class=\"tiles_lov4ye4\"><a href=\"https://www.pracuj.pl/praca/senior-java-developer-kielce,oferta,1003181300?s=1f7c2c91&amp;searchId=MTcwOTIwMTcwNzkzOC4wNjQ=\" data-test=\"link-offer\" class=\"core_btsqgu core_n194fgoq\">Kielce</a><span class=\"tiles_s84op4y core_c1s7lqrd\"><span aria-hidden=\"true\" class=\"core_ig18o8w size-medium position-center\"><svg viewBox=\"0 0 20 20\" fill=\"none\"><path d=\"M9.605 1.271a.419.419 0 0 1 .783 0l2.12 6.008h5.984a.418.418 0 0 1 .272.737l-5 4.146 2.092 6.287a.419.419 0 0 1-.644.47l-5.216-3.827-5.219 3.827a.419.419 0 0 1-.642-.47l2.093-6.287-5.001-4.146a.419.419 0 0 1 .272-.737h5.985l2.12-6.008z\" stroke=\"#676B8D\" stroke-width=\"1.6\" stroke-linecap=\"round\" stroke-linejoin=\"round\"></path></svg></span></span></div><div class=\"tiles_lov4ye4\"><a href=\"https://www.pracuj.pl/praca/senior-java-developer-krakow,oferta,1003181301?s=1f7c2c91&amp;searchId=MTcwOTIwMTcwNzkzOC4wNjQ=\" data-test=\"link-offer\" class=\"core_btsqgu core_n194fgoq\">Kraków</a><span class=\"tiles_s84op4y core_c1s7lqrd\"><span aria-hidden=\"true\" class=\"core_ig18o8w size-medium position-center\"><svg viewBox=\"0 0 20 20\" fill=\"none\"><path d=\"M9.605 1.271a.419.419 0 0 1 .783 0l2.12 6.008h5.984a.418.418 0 0 1 .272.737l-5 4.146 2.092 6.287a.419.419 0 0 1-.644.47l-5.216-3.827-5.219 3.827a.419.419 0 0 1-.642-.47l2.093-6.287-5.001-4.146a.419.419 0 0 1 .272-.737h5.985l2.12-6.008z\" stroke=\"#676B8D\" stroke-width=\"1.6\" stroke-linecap=\"round\" stroke-linejoin=\"round\"></path></svg></span></span></div><div class=\"tiles_lov4ye4\"><a href=\"https://www.pracuj.pl/praca/senior-java-developer-lublin,oferta,1003181304?s=1f7c2c91&amp;searchId=MTcwOTIwMTcwNzkzOC4wNjQ=\" data-test=\"link-offer\" class=\"core_btsqgu core_n194fgoq\">Lublin</a><span class=\"tiles_s84op4y core_c1s7lqrd\"><span aria-hidden=\"true\" class=\"core_ig18o8w size-medium position-center\"><svg viewBox=\"0 0 20 20\" fill=\"none\"><path d=\"M9.605 1.271a.419.419 0 0 1 .783 0l2.12 6.008h5.984a.418.418 0 0 1 .272.737l-5 4.146 2.092 6.287a.419.419 0 0 1-.644.47l-5.216-3.827-5.219 3.827a.419.419 0 0 1-.642-.47l2.093-6.287-5.001-4.146a.419.419 0 0 1 .272-.737h5.985l2.12-6.008z\" stroke=\"#676B8D\" stroke-width=\"1.6\" stroke-linecap=\"round\" stroke-linejoin=\"round\"></path></svg></span></span></div><div class=\"tiles_lov4ye4\"><a href=\"https://www.pracuj.pl/praca/senior-java-developer-lodz,oferta,1003181307?s=1f7c2c91&amp;searchId=MTcwOTIwMTcwNzkzOC4wNjQ=\" data-test=\"link-offer\" class=\"core_btsqgu core_n194fgoq\">Łódź</a><span class=\"tiles_s84op4y core_c1s7lqrd\"><span aria-hidden=\"true\" class=\"core_ig18o8w size-medium position-center\"><svg viewBox=\"0 0 20 20\" fill=\"none\"><path d=\"M9.605 1.271a.419.419 0 0 1 .783 0l2.12 6.008h5.984a.418.418 0 0 1 .272.737l-5 4.146 2.092 6.287a.419.419 0 0 1-.644.47l-5.216-3.827-5.219 3.827a.419.419 0 0 1-.642-.47l2.093-6.287-5.001-4.146a.419.419 0 0 1 .272-.737h5.985l2.12-6.008z\" stroke=\"#676B8D\" stroke-width=\"1.6\" stroke-linecap=\"round\" stroke-linejoin=\"round\"></path></svg></span></span></div><div class=\"tiles_lov4ye4\"><a href=\"https://www.pracuj.pl/praca/senior-java-developer-olsztyn,oferta,1003181309?s=1f7c2c91&amp;searchId=MTcwOTIwMTcwNzkzOC4wNjQ=\" data-test=\"link-offer\" class=\"core_btsqgu core_n194fgoq\">Olsztyn</a><span class=\"tiles_s84op4y core_c1s7lqrd\"><span aria-hidden=\"true\" class=\"core_ig18o8w size-medium position-center\"><svg viewBox=\"0 0 20 20\" fill=\"none\"><path d=\"M9.605 1.271a.419.419 0 0 1 .783 0l2.12 6.008h5.984a.418.418 0 0 1 .272.737l-5 4.146 2.092 6.287a.419.419 0 0 1-.644.47l-5.216-3.827-5.219 3.827a.419.419 0 0 1-.642-.47l2.093-6.287-5.001-4.146a.419.419 0 0 1 .272-.737h5.985l2.12-6.008z\" stroke=\"#676B8D\" stroke-width=\"1.6\" stroke-linecap=\"round\" stroke-linejoin=\"round\"></path></svg></span></span></div><div class=\"tiles_lov4ye4\"><a href=\"https://www.pracuj.pl/praca/senior-java-developer-opole,oferta,1003181310?s=1f7c2c91&amp;searchId=MTcwOTIwMTcwNzkzOC4wNjQ=\" data-test=\"link-offer\" class=\"core_btsqgu core_n194fgoq\">Opole</a><span class=\"tiles_s84op4y core_c1s7lqrd\"><span aria-hidden=\"true\" class=\"core_ig18o8w size-medium position-center\"><svg viewBox=\"0 0 20 20\" fill=\"none\"><path d=\"M9.605 1.271a.419.419 0 0 1 .783 0l2.12 6.008h5.984a.418.418 0 0 1 .272.737l-5 4.146 2.092 6.287a.419.419 0 0 1-.644.47l-5.216-3.827-5.219 3.827a.419.419 0 0 1-.642-.47l2.093-6.287-5.001-4.146a.419.419 0 0 1 .272-.737h5.985l2.12-6.008z\" stroke=\"#676B8D\" stroke-width=\"1.6\" stroke-linecap=\"round\" stroke-linejoin=\"round\"></path></svg></span></span></div><div class=\"tiles_lov4ye4\"><a href=\"https://www.pracuj.pl/praca/senior-java-developer-poznan,oferta,1003181311?s=1f7c2c91&amp;searchId=MTcwOTIwMTcwNzkzOC4wNjQ=\" data-test=\"link-offer\" class=\"core_btsqgu core_n194fgoq\">Poznań</a><span class=\"tiles_s84op4y core_c1s7lqrd\"><span aria-hidden=\"true\" class=\"core_ig18o8w size-medium position-center\"><svg viewBox=\"0 0 20 20\" fill=\"none\"><path d=\"M9.605 1.271a.419.419 0 0 1 .783 0l2.12 6.008h5.984a.418.418 0 0 1 .272.737l-5 4.146 2.092 6.287a.419.419 0 0 1-.644.47l-5.216-3.827-5.219 3.827a.419.419 0 0 1-.642-.47l2.093-6.287-5.001-4.146a.419.419 0 0 1 .272-.737h5.985l2.12-6.008z\" stroke=\"#676B8D\" stroke-width=\"1.6\" stroke-linecap=\"round\" stroke-linejoin=\"round\"></path></svg></span></span></div><div class=\"tiles_lov4ye4\"><a href=\"https://www.pracuj.pl/praca/senior-java-developer-rzeszow,oferta,1003181312?s=1f7c2c91&amp;searchId=MTcwOTIwMTcwNzkzOC4wNjQ=\" data-test=\"link-offer\" class=\"core_btsqgu core_n194fgoq\">Rzeszów</a><span class=\"tiles_s84op4y core_c1s7lqrd\"><span aria-hidden=\"true\" class=\"core_ig18o8w size-medium position-center\"><svg viewBox=\"0 0 20 20\" fill=\"none\"><path d=\"M9.605 1.271a.419.419 0 0 1 .783 0l2.12 6.008h5.984a.418.418 0 0 1 .272.737l-5 4.146 2.092 6.287a.419.419 0 0 1-.644.47l-5.216-3.827-5.219 3.827a.419.419 0 0 1-.642-.47l2.093-6.287-5.001-4.146a.419.419 0 0 1 .272-.737h5.985l2.12-6.008z\" stroke=\"#676B8D\" stroke-width=\"1.6\" stroke-linecap=\"round\" stroke-linejoin=\"round\"></path></svg></span></span></div><div class=\"tiles_lov4ye4\"><a href=\"https://www.pracuj.pl/praca/senior-java-developer-szczecin,oferta,1003181313?s=1f7c2c91&amp;searchId=MTcwOTIwMTcwNzkzOC4wNjQ=\" data-test=\"link-offer\" class=\"core_btsqgu core_n194fgoq\">Szczecin</a><span class=\"tiles_s84op4y core_c1s7lqrd\"><span aria-hidden=\"true\" class=\"core_ig18o8w size-medium position-center\"><svg viewBox=\"0 0 20 20\" fill=\"none\"><path d=\"M9.605 1.271a.419.419 0 0 1 .783 0l2.12 6.008h5.984a.418.418 0 0 1 .272.737l-5 4.146 2.092 6.287a.419.419 0 0 1-.644.47l-5.216-3.827-5.219 3.827a.419.419 0 0 1-.642-.47l2.093-6.287-5.001-4.146a.419.419 0 0 1 .272-.737h5.985l2.12-6.008z\" stroke=\"#676B8D\" stroke-width=\"1.6\" stroke-linecap=\"round\" stroke-linejoin=\"round\"></path></svg></span></span></div><div class=\"tiles_lov4ye4\"><a href=\"https://www.pracuj.pl/praca/senior-java-developer-warszawa,oferta,1003181314?s=1f7c2c91&amp;searchId=MTcwOTIwMTcwNzkzOC4wNjQ=\" data-test=\"link-offer\" class=\"core_btsqgu core_n194fgoq\">Warszawa</a><span class=\"tiles_s84op4y core_c1s7lqrd\"><span aria-hidden=\"true\" class=\"core_ig18o8w size-medium position-center\"><svg viewBox=\"0 0 20 20\" fill=\"none\"><path d=\"M9.605 1.271a.419.419 0 0 1 .783 0l2.12 6.008h5.984a.418.418 0 0 1 .272.737l-5 4.146 2.092 6.287a.419.419 0 0 1-.644.47l-5.216-3.827-5.219 3.827a.419.419 0 0 1-.642-.47l2.093-6.287-5.001-4.146a.419.419 0 0 1 .272-.737h5.985l2.12-6.008z\" stroke=\"#676B8D\" stroke-width=\"1.6\" stroke-linecap=\"round\" stroke-linejoin=\"round\"></path></svg></span></span></div><div class=\"tiles_lov4ye4\"><a href=\"https://www.pracuj.pl/praca/senior-java-developer-wroclaw,oferta,1003181316?s=1f7c2c91&amp;searchId=MTcwOTIwMTcwNzkzOC4wNjQ=\" data-test=\"link-offer\" class=\"core_btsqgu core_n194fgoq\">Wrocław</a><span class=\"tiles_s84op4y core_c1s7lqrd\"><span aria-hidden=\"true\" class=\"core_ig18o8w size-medium position-center\"><svg viewBox=\"0 0 20 20\" fill=\"none\"><path d=\"M9.605 1.271a.419.419 0 0 1 .783 0l2.12 6.008h5.984a.418.418 0 0 1 .272.737l-5 4.146 2.092 6.287a.419.419 0 0 1-.644.47l-5.216-3.827-5.219 3.827a.419.419 0 0 1-.642-.47l2.093-6.287-5.001-4.146a.419.419 0 0 1 .272-.737h5.985l2.12-6.008z\" stroke=\"#676B8D\" stroke-width=\"1.6\" stroke-linecap=\"round\" stroke-linejoin=\"round\"></path></svg></span></span></div><div class=\"tiles_lov4ye4\"><a href=\"https://www.pracuj.pl/praca/senior-java-developer-zielona-gora,oferta,1003181318?s=1f7c2c91&amp;searchId=MTcwOTIwMTcwNzkzOC4wNjQ=\" data-test=\"link-offer\" class=\"core_btsqgu core_n194fgoq\">Zielona Góra</a><span class=\"tiles_s84op4y core_c1s7lqrd\"><span aria-hidden=\"true\" class=\"core_ig18o8w size-medium position-center\"><svg viewBox=\"0 0 20 20\" fill=\"none\"><path d=\"M9.605 1.271a.419.419 0 0 1 .783 0l2.12 6.008h5.984a.418.418 0 0 1 .272.737l-5 4.146 2.092 6.287a.419.419 0 0 1-.644.47l-5.216-3.827-5.219 3.827a.419.419 0 0 1-.642-.47l2.093-6.287-5.001-4.146a.419.419 0 0 1 .272-.737h5.985l2.12-6.008z\" stroke=\"#676B8D\" stroke-width=\"1.6\" stroke-linecap=\"round\" stroke-linejoin=\"round\"></path></svg></span></span></div></div>"
   ]
  },
  {
   "cell_type": "code",
   "execution_count": null,
   "id": "946faf8f",
   "metadata": {},
   "outputs": [],
   "source": []
  },
  {
   "cell_type": "code",
   "execution_count": null,
   "id": "7091d1d4",
   "metadata": {},
   "outputs": [],
   "source": []
  },
  {
   "cell_type": "code",
   "execution_count": null,
   "id": "8b3c5471",
   "metadata": {},
   "outputs": [],
   "source": []
  }
 ],
 "metadata": {
  "kernelspec": {
   "display_name": "Python 3 (ipykernel)",
   "language": "python",
   "name": "python3"
  },
  "language_info": {
   "codemirror_mode": {
    "name": "ipython",
    "version": 3
   },
   "file_extension": ".py",
   "mimetype": "text/x-python",
   "name": "python",
   "nbconvert_exporter": "python",
   "pygments_lexer": "ipython3",
   "version": "3.11.5"
  },
  "toc": {
   "base_numbering": 1,
   "nav_menu": {},
   "number_sections": true,
   "sideBar": true,
   "skip_h1_title": true,
   "title_cell": "Table of Contents",
   "title_sidebar": "Contents",
   "toc_cell": false,
   "toc_position": {},
   "toc_section_display": true,
   "toc_window_display": false
  },
  "varInspector": {
   "cols": {
    "lenName": 16,
    "lenType": 16,
    "lenVar": 40
   },
   "kernels_config": {
    "python": {
     "delete_cmd_postfix": "",
     "delete_cmd_prefix": "del ",
     "library": "var_list.py",
     "varRefreshCmd": "print(var_dic_list())"
    },
    "r": {
     "delete_cmd_postfix": ") ",
     "delete_cmd_prefix": "rm(",
     "library": "var_list.r",
     "varRefreshCmd": "cat(var_dic_list()) "
    }
   },
   "types_to_exclude": [
    "module",
    "function",
    "builtin_function_or_method",
    "instance",
    "_Feature"
   ],
   "window_display": false
  }
 },
 "nbformat": 4,
 "nbformat_minor": 5
}
