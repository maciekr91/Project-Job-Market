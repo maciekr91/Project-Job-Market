{
 "cells": [
  {
   "cell_type": "code",
   "execution_count": 29,
   "id": "5def1627",
   "metadata": {},
   "outputs": [],
   "source": [
    "from bs4 import BeautifulSoup\n",
    "import requests\n",
    "import pandas as pd\n",
    "import time\n",
    "import re\n",
    "import pickle\n",
    "import os\n",
    "from datetime import datetime, date, timedelta\n",
    "\n",
    "import selenium\n",
    "\n",
    "from selenium import webdriver\n",
    "from selenium.webdriver.chrome.service import Service\n",
    "from selenium.webdriver.common.by import By"
   ]
  },
  {
   "cell_type": "code",
   "execution_count": 24,
   "id": "fefcfa92",
   "metadata": {},
   "outputs": [],
   "source": [
    "offers_db = pickle.load(open('db/offers_db', 'rb'))"
   ]
  },
  {
   "cell_type": "code",
   "execution_count": 27,
   "id": "8228ece1",
   "metadata": {},
   "outputs": [
    {
     "data": {
      "text/html": [
       "<div>\n",
       "<style scoped>\n",
       "    .dataframe tbody tr th:only-of-type {\n",
       "        vertical-align: middle;\n",
       "    }\n",
       "\n",
       "    .dataframe tbody tr th {\n",
       "        vertical-align: top;\n",
       "    }\n",
       "\n",
       "    .dataframe thead th {\n",
       "        text-align: right;\n",
       "    }\n",
       "</style>\n",
       "<table border=\"1\" class=\"dataframe\">\n",
       "  <thead>\n",
       "    <tr style=\"text-align: right;\">\n",
       "      <th></th>\n",
       "      <th>site</th>\n",
       "      <th>experience</th>\n",
       "      <th>name</th>\n",
       "      <th>company</th>\n",
       "      <th>location</th>\n",
       "      <th>work_mode</th>\n",
       "      <th>salary_avg</th>\n",
       "      <th>salary_low</th>\n",
       "      <th>salary_high</th>\n",
       "      <th>technologies</th>\n",
       "      <th>link</th>\n",
       "      <th>added_at</th>\n",
       "      <th>voivodeship</th>\n",
       "    </tr>\n",
       "  </thead>\n",
       "  <tbody>\n",
       "    <tr>\n",
       "      <th>0</th>\n",
       "      <td>justjoin.it</td>\n",
       "      <td>junior</td>\n",
       "      <td>Software Developer Intern</td>\n",
       "      <td>AI Clearing</td>\n",
       "      <td>Warszawa</td>\n",
       "      <td>Not specified</td>\n",
       "      <td>6000.0</td>\n",
       "      <td>5000.0</td>\n",
       "      <td>7000.0</td>\n",
       "      <td>[SQL, Python, Git]</td>\n",
       "      <td>https://justjoin.it/offers/ai-clearing-softwar...</td>\n",
       "      <td>2024-02-15 11:41</td>\n",
       "      <td>mazowieckie</td>\n",
       "    </tr>\n",
       "    <tr>\n",
       "      <th>1</th>\n",
       "      <td>justjoin.it</td>\n",
       "      <td>junior</td>\n",
       "      <td>AI/ML Engineer</td>\n",
       "      <td>MindPal</td>\n",
       "      <td>Warszawa</td>\n",
       "      <td>Praca zdalna</td>\n",
       "      <td>8500.0</td>\n",
       "      <td>7000.0</td>\n",
       "      <td>10000.0</td>\n",
       "      <td>[AI, Machine Learning, C++]</td>\n",
       "      <td>https://justjoin.it/offers/mindpal-ai-ml-engin...</td>\n",
       "      <td>2024-02-15 11:41</td>\n",
       "      <td>mazowieckie</td>\n",
       "    </tr>\n",
       "    <tr>\n",
       "      <th>2</th>\n",
       "      <td>justjoin.it</td>\n",
       "      <td>junior</td>\n",
       "      <td>Junior Data Management Specialist</td>\n",
       "      <td>DXC Technology</td>\n",
       "      <td>Warszawa</td>\n",
       "      <td>Praca zdalna</td>\n",
       "      <td>NaN</td>\n",
       "      <td>NaN</td>\n",
       "      <td>NaN</td>\n",
       "      <td>[data analytics, SQL, Python]</td>\n",
       "      <td>https://justjoin.it/offers/dxc-technology-juni...</td>\n",
       "      <td>2024-02-15 11:41</td>\n",
       "      <td>mazowieckie</td>\n",
       "    </tr>\n",
       "    <tr>\n",
       "      <th>3</th>\n",
       "      <td>justjoin.it</td>\n",
       "      <td>junior</td>\n",
       "      <td>Junior Python / DevOps Engineer</td>\n",
       "      <td>digatus</td>\n",
       "      <td>Warszawa</td>\n",
       "      <td>Praca zdalna</td>\n",
       "      <td>11000.0</td>\n",
       "      <td>9000.0</td>\n",
       "      <td>13000.0</td>\n",
       "      <td>[Docker, DevOps, Python]</td>\n",
       "      <td>https://justjoin.it/offers/digatus-junior-pyth...</td>\n",
       "      <td>2024-02-15 11:41</td>\n",
       "      <td>mazowieckie</td>\n",
       "    </tr>\n",
       "    <tr>\n",
       "      <th>4</th>\n",
       "      <td>justjoin.it</td>\n",
       "      <td>junior</td>\n",
       "      <td>Software Engineer, Early Career</td>\n",
       "      <td>Affirm</td>\n",
       "      <td>Warszawa</td>\n",
       "      <td>Not specified</td>\n",
       "      <td>16450.0</td>\n",
       "      <td>16450.0</td>\n",
       "      <td>16450.0</td>\n",
       "      <td>[JavaScript, Kotlin, C++]</td>\n",
       "      <td>https://justjoin.it/offers/affirm-software-eng...</td>\n",
       "      <td>2024-02-15 11:41</td>\n",
       "      <td>mazowieckie</td>\n",
       "    </tr>\n",
       "    <tr>\n",
       "      <th>...</th>\n",
       "      <td>...</td>\n",
       "      <td>...</td>\n",
       "      <td>...</td>\n",
       "      <td>...</td>\n",
       "      <td>...</td>\n",
       "      <td>...</td>\n",
       "      <td>...</td>\n",
       "      <td>...</td>\n",
       "      <td>...</td>\n",
       "      <td>...</td>\n",
       "      <td>...</td>\n",
       "      <td>...</td>\n",
       "      <td>...</td>\n",
       "    </tr>\n",
       "    <tr>\n",
       "      <th>1641</th>\n",
       "      <td>pracuj.pl</td>\n",
       "      <td>mid</td>\n",
       "      <td>Specjalista ds. Narzędzi i Analiz BI</td>\n",
       "      <td>PKO Bank Polski SA</td>\n",
       "      <td>Warszawa</td>\n",
       "      <td>Praca hybrydowa</td>\n",
       "      <td>NaN</td>\n",
       "      <td>NaN</td>\n",
       "      <td>NaN</td>\n",
       "      <td>[Python, SQL]</td>\n",
       "      <td>https://www.pracuj.pl/praca/specjalista-ds-nar...</td>\n",
       "      <td>2024-02-28 10:03</td>\n",
       "      <td>mazowieckie</td>\n",
       "    </tr>\n",
       "    <tr>\n",
       "      <th>1642</th>\n",
       "      <td>pracuj.pl</td>\n",
       "      <td>junior</td>\n",
       "      <td>Junior Data Scientist</td>\n",
       "      <td>A.T. Kearney Sp. z o.o.</td>\n",
       "      <td>Warszawa</td>\n",
       "      <td>Praca hybrydowa</td>\n",
       "      <td>10750.0</td>\n",
       "      <td>9500.0</td>\n",
       "      <td>12000.0</td>\n",
       "      <td>[SQL, Python]</td>\n",
       "      <td>https://www.pracuj.pl/praca/junior-data-scient...</td>\n",
       "      <td>2024-02-28 10:03</td>\n",
       "      <td>mazowieckie</td>\n",
       "    </tr>\n",
       "    <tr>\n",
       "      <th>1643</th>\n",
       "      <td>pracuj.pl</td>\n",
       "      <td>junior</td>\n",
       "      <td>Młodszy Analityk Danych</td>\n",
       "      <td>Hart Sp. z o.o.</td>\n",
       "      <td>Wrocław</td>\n",
       "      <td>Praca zdalna</td>\n",
       "      <td>NaN</td>\n",
       "      <td>NaN</td>\n",
       "      <td>NaN</td>\n",
       "      <td>[SQL, Oracle]</td>\n",
       "      <td>https://www.pracuj.pl/praca/mlodszy-analityk-d...</td>\n",
       "      <td>2024-02-28 10:03</td>\n",
       "      <td>dolnośląskie</td>\n",
       "    </tr>\n",
       "    <tr>\n",
       "      <th>1644</th>\n",
       "      <td>pracuj.pl</td>\n",
       "      <td>mid</td>\n",
       "      <td>Analityk IT / Feature Engineer</td>\n",
       "      <td>DomData AG Sp. z o.o.</td>\n",
       "      <td>Katowice</td>\n",
       "      <td>Praca zdalna</td>\n",
       "      <td>NaN</td>\n",
       "      <td>NaN</td>\n",
       "      <td>NaN</td>\n",
       "      <td>[UML, BPMN, SQL, SOAP]</td>\n",
       "      <td>https://www.pracuj.pl/praca/analityk-it-featur...</td>\n",
       "      <td>2024-02-28 10:03</td>\n",
       "      <td>śląskie</td>\n",
       "    </tr>\n",
       "    <tr>\n",
       "      <th>1645</th>\n",
       "      <td>pracuj.pl</td>\n",
       "      <td>senior</td>\n",
       "      <td>Procurement Senior Data Analyst</td>\n",
       "      <td>CBRE Business Services Organisation Sp. z o.o.</td>\n",
       "      <td>Warszawa</td>\n",
       "      <td>Praca hybrydowa</td>\n",
       "      <td>NaN</td>\n",
       "      <td>NaN</td>\n",
       "      <td>NaN</td>\n",
       "      <td>[SQL, Jira, Confluence, Python, Azure SQL]</td>\n",
       "      <td>https://www.pracuj.pl/praca/procurement-senior...</td>\n",
       "      <td>2024-02-28 10:14</td>\n",
       "      <td>mazowieckie</td>\n",
       "    </tr>\n",
       "  </tbody>\n",
       "</table>\n",
       "<p>1646 rows × 13 columns</p>\n",
       "</div>"
      ],
      "text/plain": [
       "             site experience                                  name  \\\n",
       "0     justjoin.it     junior             Software Developer Intern   \n",
       "1     justjoin.it     junior                        AI/ML Engineer   \n",
       "2     justjoin.it     junior     Junior Data Management Specialist   \n",
       "3     justjoin.it     junior       Junior Python / DevOps Engineer   \n",
       "4     justjoin.it     junior       Software Engineer, Early Career   \n",
       "...           ...        ...                                   ...   \n",
       "1641    pracuj.pl        mid  Specjalista ds. Narzędzi i Analiz BI   \n",
       "1642    pracuj.pl     junior                 Junior Data Scientist   \n",
       "1643    pracuj.pl     junior               Młodszy Analityk Danych   \n",
       "1644    pracuj.pl        mid        Analityk IT / Feature Engineer   \n",
       "1645    pracuj.pl     senior       Procurement Senior Data Analyst   \n",
       "\n",
       "                                             company  location  \\\n",
       "0                                        AI Clearing  Warszawa   \n",
       "1                                            MindPal  Warszawa   \n",
       "2                                     DXC Technology  Warszawa   \n",
       "3                                            digatus  Warszawa   \n",
       "4                                             Affirm  Warszawa   \n",
       "...                                              ...       ...   \n",
       "1641                              PKO Bank Polski SA  Warszawa   \n",
       "1642                         A.T. Kearney Sp. z o.o.  Warszawa   \n",
       "1643                                 Hart Sp. z o.o.   Wrocław   \n",
       "1644                           DomData AG Sp. z o.o.  Katowice   \n",
       "1645  CBRE Business Services Organisation Sp. z o.o.  Warszawa   \n",
       "\n",
       "            work_mode  salary_avg  salary_low  salary_high  \\\n",
       "0       Not specified      6000.0      5000.0       7000.0   \n",
       "1        Praca zdalna      8500.0      7000.0      10000.0   \n",
       "2        Praca zdalna         NaN         NaN          NaN   \n",
       "3        Praca zdalna     11000.0      9000.0      13000.0   \n",
       "4       Not specified     16450.0     16450.0      16450.0   \n",
       "...               ...         ...         ...          ...   \n",
       "1641  Praca hybrydowa         NaN         NaN          NaN   \n",
       "1642  Praca hybrydowa     10750.0      9500.0      12000.0   \n",
       "1643     Praca zdalna         NaN         NaN          NaN   \n",
       "1644     Praca zdalna         NaN         NaN          NaN   \n",
       "1645  Praca hybrydowa         NaN         NaN          NaN   \n",
       "\n",
       "                                    technologies  \\\n",
       "0                             [SQL, Python, Git]   \n",
       "1                    [AI, Machine Learning, C++]   \n",
       "2                  [data analytics, SQL, Python]   \n",
       "3                       [Docker, DevOps, Python]   \n",
       "4                      [JavaScript, Kotlin, C++]   \n",
       "...                                          ...   \n",
       "1641                               [Python, SQL]   \n",
       "1642                               [SQL, Python]   \n",
       "1643                               [SQL, Oracle]   \n",
       "1644                      [UML, BPMN, SQL, SOAP]   \n",
       "1645  [SQL, Jira, Confluence, Python, Azure SQL]   \n",
       "\n",
       "                                                   link          added_at  \\\n",
       "0     https://justjoin.it/offers/ai-clearing-softwar...  2024-02-15 11:41   \n",
       "1     https://justjoin.it/offers/mindpal-ai-ml-engin...  2024-02-15 11:41   \n",
       "2     https://justjoin.it/offers/dxc-technology-juni...  2024-02-15 11:41   \n",
       "3     https://justjoin.it/offers/digatus-junior-pyth...  2024-02-15 11:41   \n",
       "4     https://justjoin.it/offers/affirm-software-eng...  2024-02-15 11:41   \n",
       "...                                                 ...               ...   \n",
       "1641  https://www.pracuj.pl/praca/specjalista-ds-nar...  2024-02-28 10:03   \n",
       "1642  https://www.pracuj.pl/praca/junior-data-scient...  2024-02-28 10:03   \n",
       "1643  https://www.pracuj.pl/praca/mlodszy-analityk-d...  2024-02-28 10:03   \n",
       "1644  https://www.pracuj.pl/praca/analityk-it-featur...  2024-02-28 10:03   \n",
       "1645  https://www.pracuj.pl/praca/procurement-senior...  2024-02-28 10:14   \n",
       "\n",
       "       voivodeship  \n",
       "0      mazowieckie  \n",
       "1      mazowieckie  \n",
       "2      mazowieckie  \n",
       "3      mazowieckie  \n",
       "4      mazowieckie  \n",
       "...            ...  \n",
       "1641   mazowieckie  \n",
       "1642   mazowieckie  \n",
       "1643  dolnośląskie  \n",
       "1644       śląskie  \n",
       "1645   mazowieckie  \n",
       "\n",
       "[1646 rows x 13 columns]"
      ]
     },
     "execution_count": 27,
     "metadata": {},
     "output_type": "execute_result"
    }
   ],
   "source": [
    "offers_db"
   ]
  },
  {
   "cell_type": "code",
   "execution_count": 68,
   "id": "c4ec8a4b",
   "metadata": {},
   "outputs": [],
   "source": [
    "current_dir = os.getcwd()\n",
    "driver_path = os.path.join(current_dir, 'app/chromedriver.exe')\n",
    "service = Service(executable_path=driver_path)\n",
    "driver = webdriver.Chrome(service=service)"
   ]
  },
  {
   "cell_type": "code",
   "execution_count": 88,
   "id": "6b03d80d",
   "metadata": {},
   "outputs": [],
   "source": [
    "url='https://it.pracuj.pl/praca?pn=2'\n",
    "driver.get(url)\n",
    "# soup = BeautifulSoup(driver.page_source, 'html.parser')"
   ]
  },
  {
   "cell_type": "code",
   "execution_count": 89,
   "id": "06716e3a",
   "metadata": {},
   "outputs": [],
   "source": [
    "elements = driver.find_elements(By.CSS_SELECTOR, \"h5.tiles_r1rl4c7t.size-caption.core_t1rst47b[data-test='text-region']\")"
   ]
  },
  {
   "cell_type": "code",
   "execution_count": 94,
   "id": "b0bb0250",
   "metadata": {},
   "outputs": [],
   "source": [
    "b = 'chuj'"
   ]
  },
  {
   "cell_type": "code",
   "execution_count": 96,
   "id": "9c48aee9",
   "metadata": {},
   "outputs": [
    {
     "data": {
      "text/plain": [
       "str"
      ]
     },
     "execution_count": 96,
     "metadata": {},
     "output_type": "execute_result"
    }
   ],
   "source": [
    "type(b)"
   ]
  },
  {
   "cell_type": "code",
   "execution_count": 95,
   "id": "717d503a",
   "metadata": {},
   "outputs": [
    {
     "name": "stdout",
     "output_type": "stream",
     "text": [
      "ok\n"
     ]
    }
   ],
   "source": [
    "if 'ch' in b:\n",
    "    print('ok')"
   ]
  },
  {
   "cell_type": "code",
   "execution_count": 100,
   "id": "36abc533",
   "metadata": {},
   "outputs": [
    {
     "name": "stdout",
     "output_type": "stream",
     "text": [
      "Kraków, Dębniki\n",
      "<class 'str'>\n",
      "\n",
      "<class 'str'>\n",
      "Warszawa\n",
      "<class 'str'>\n",
      "\n",
      "<class 'str'>\n",
      "Katowice\n",
      "<class 'str'>\n",
      "\n",
      "<class 'str'>\n",
      "Kraków, Dębniki\n",
      "<class 'str'>\n",
      "\n",
      "<class 'str'>\n",
      "Warszawa, Ochota\n",
      "<class 'str'>\n",
      "\n",
      "<class 'str'>\n",
      "Gdynia\n",
      "<class 'str'>\n",
      "\n",
      "<class 'str'>\n",
      "Warszawa, Mokotów\n",
      "<class 'str'>\n",
      "\n",
      "<class 'str'>\n",
      "Warszawa\n",
      "<class 'str'>\n",
      "\n",
      "<class 'str'>\n",
      "Warszawa\n",
      "<class 'str'>\n",
      "\n",
      "<class 'str'>\n",
      "Łódź, Bałuty\n",
      "<class 'str'>\n",
      "\n",
      "<class 'str'>\n",
      "2 lokalizacje\n",
      "<class 'str'>\n",
      "\n",
      "<class 'str'>\n",
      "Wrocław, Fabryczna\n",
      "<class 'str'>\n",
      "\n",
      "<class 'str'>\n",
      "Warszawa, Wola\n",
      "<class 'str'>\n",
      "\n",
      "<class 'str'>\n",
      "Rakowice Małe (pow. lwówecki)\n",
      "<class 'str'>\n",
      "\n",
      "<class 'str'>\n",
      "2 lokalizacje\n",
      "<class 'str'>\n",
      "\n",
      "<class 'str'>\n",
      "Kraków, Podgórze\n",
      "<class 'str'>\n",
      "\n",
      "<class 'str'>\n",
      "Kraków, Podgórze\n",
      "<class 'str'>\n",
      "\n",
      "<class 'str'>\n",
      "Gdynia\n",
      "<class 'str'>\n",
      "\n",
      "<class 'str'>\n",
      "Łódź, Śródmieście\n",
      "<class 'str'>\n",
      "\n",
      "<class 'str'>\n",
      "Kraków, Czyżyny\n",
      "<class 'str'>\n",
      "\n",
      "<class 'str'>\n",
      "Poznań\n",
      "<class 'str'>\n",
      "\n",
      "<class 'str'>\n",
      "Szczecin\n",
      "<class 'str'>\n",
      "\n",
      "<class 'str'>\n",
      "Warszawa, Mokotów\n",
      "<class 'str'>\n",
      "\n",
      "<class 'str'>\n",
      "4 lokalizacje\n",
      "<class 'str'>\n",
      "\n",
      "<class 'str'>\n",
      "Warszawa\n",
      "<class 'str'>\n",
      "\n",
      "<class 'str'>\n",
      "Wrocław, Krzyki\n",
      "<class 'str'>\n",
      "\n",
      "<class 'str'>\n",
      "Wrocław, Krzyki\n",
      "<class 'str'>\n",
      "\n",
      "<class 'str'>\n",
      "Warszawa, Wola\n",
      "<class 'str'>\n",
      "\n",
      "<class 'str'>\n",
      "Wrocław, Krzyki\n",
      "<class 'str'>\n",
      "\n",
      "<class 'str'>\n",
      "Szczecin\n",
      "<class 'str'>\n",
      "\n",
      "<class 'str'>\n",
      "Kraków, Czyżyny\n",
      "<class 'str'>\n",
      "\n",
      "<class 'str'>\n",
      "Kraków, Dębniki\n",
      "<class 'str'>\n",
      "\n",
      "<class 'str'>\n",
      "Wołomin\n",
      "<class 'str'>\n",
      "\n",
      "<class 'str'>\n",
      "Wrocław, Krzyki\n",
      "<class 'str'>\n",
      "\n",
      "<class 'str'>\n",
      "Kraków\n",
      "<class 'str'>\n",
      "\n",
      "<class 'str'>\n",
      "Warszawa\n",
      "<class 'str'>\n",
      "\n",
      "<class 'str'>\n",
      "Warszawa, Wola\n",
      "<class 'str'>\n",
      "\n",
      "<class 'str'>\n",
      "Warszawa, Wola\n",
      "<class 'str'>\n",
      "\n",
      "<class 'str'>\n",
      "Warszawa, Wola\n",
      "<class 'str'>\n",
      "\n",
      "<class 'str'>\n",
      "Katowice\n",
      "<class 'str'>\n",
      "\n",
      "<class 'str'>\n",
      "Kraków\n",
      "<class 'str'>\n",
      "\n",
      "<class 'str'>\n",
      "Łódź, Bałuty\n",
      "<class 'str'>\n",
      "\n",
      "<class 'str'>\n",
      "Warszawa\n",
      "<class 'str'>\n",
      "\n",
      "<class 'str'>\n",
      "Warszawa\n",
      "<class 'str'>\n",
      "\n",
      "<class 'str'>\n"
     ]
    }
   ],
   "source": [
    "for element in elements:\n",
    "    localization = element.text\n",
    "    print(localization)\n",
    "    print(type(localization))"
   ]
  },
  {
   "cell_type": "code",
   "execution_count": 87,
   "id": "e746f106",
   "metadata": {},
   "outputs": [
    {
     "ename": "StaleElementReferenceException",
     "evalue": "Message: stale element reference: stale element not found\n  (Session info: chrome=122.0.6261.69); For documentation on this error, please visit: https://www.selenium.dev/documentation/webdriver/troubleshooting/errors#stale-element-reference-exception\nStacktrace:\n\tGetHandleVerifier [0x00007FF6BCF15E42+3538674]\n\t(No symbol) [0x00007FF6BCB34C02]\n\t(No symbol) [0x00007FF6BC9E5AEB]\n\t(No symbol) [0x00007FF6BC9F514B]\n\t(No symbol) [0x00007FF6BC9EB92A]\n\t(No symbol) [0x00007FF6BC9E9D10]\n\t(No symbol) [0x00007FF6BC9ED150]\n\t(No symbol) [0x00007FF6BC9ED210]\n\t(No symbol) [0x00007FF6BCA2723B]\n\t(No symbol) [0x00007FF6BCA4F0AA]\n\t(No symbol) [0x00007FF6BCA2124A]\n\t(No symbol) [0x00007FF6BCA4F2C0]\n\t(No symbol) [0x00007FF6BCA6BDE3]\n\t(No symbol) [0x00007FF6BCA4EE53]\n\t(No symbol) [0x00007FF6BCA1F514]\n\t(No symbol) [0x00007FF6BCA20631]\n\tGetHandleVerifier [0x00007FF6BCF46CAD+3738973]\n\tGetHandleVerifier [0x00007FF6BCF9C506+4089270]\n\tGetHandleVerifier [0x00007FF6BCF94823+4057299]\n\tGetHandleVerifier [0x00007FF6BCC65C49+720121]\n\t(No symbol) [0x00007FF6BCB4126F]\n\t(No symbol) [0x00007FF6BCB3C304]\n\t(No symbol) [0x00007FF6BCB3C432]\n\t(No symbol) [0x00007FF6BCB2BD04]\n\tBaseThreadInitThunk [0x00007FFB4C65257D+29]\n\tRtlUserThreadStart [0x00007FFB4D4CAA58+40]\n",
     "output_type": "error",
     "traceback": [
      "\u001b[1;31m---------------------------------------------------------------------------\u001b[0m",
      "\u001b[1;31mStaleElementReferenceException\u001b[0m            Traceback (most recent call last)",
      "Cell \u001b[1;32mIn[87], line 2\u001b[0m\n\u001b[0;32m      1\u001b[0m \u001b[38;5;28;01mfor\u001b[39;00m element \u001b[38;5;129;01min\u001b[39;00m elements:\n\u001b[1;32m----> 2\u001b[0m     localization \u001b[38;5;241m=\u001b[39m element\u001b[38;5;241m.\u001b[39mtext\n\u001b[0;32m      3\u001b[0m     \u001b[38;5;28;01mif\u001b[39;00m \u001b[38;5;124m'\u001b[39m\u001b[38;5;124mlokalizacje\u001b[39m\u001b[38;5;124m'\u001b[39m \u001b[38;5;129;01min\u001b[39;00m localization \u001b[38;5;129;01mor\u001b[39;00m \u001b[38;5;124m'\u001b[39m\u001b[38;5;124mlokalizacja\u001b[39m\u001b[38;5;124m'\u001b[39m \u001b[38;5;129;01min\u001b[39;00m localization:\n\u001b[0;32m      4\u001b[0m         \u001b[38;5;28mprint\u001b[39m(localization)\n",
      "File \u001b[1;32m~\\AppData\\Roaming\\Python\\Python311\\site-packages\\selenium\\webdriver\\remote\\webelement.py:90\u001b[0m, in \u001b[0;36mWebElement.text\u001b[1;34m(self)\u001b[0m\n\u001b[0;32m     87\u001b[0m \u001b[38;5;129m@property\u001b[39m\n\u001b[0;32m     88\u001b[0m \u001b[38;5;28;01mdef\u001b[39;00m \u001b[38;5;21mtext\u001b[39m(\u001b[38;5;28mself\u001b[39m) \u001b[38;5;241m-\u001b[39m\u001b[38;5;241m>\u001b[39m \u001b[38;5;28mstr\u001b[39m:\n\u001b[0;32m     89\u001b[0m \u001b[38;5;250m    \u001b[39m\u001b[38;5;124;03m\"\"\"The text of the element.\"\"\"\u001b[39;00m\n\u001b[1;32m---> 90\u001b[0m     \u001b[38;5;28;01mreturn\u001b[39;00m \u001b[38;5;28mself\u001b[39m\u001b[38;5;241m.\u001b[39m_execute(Command\u001b[38;5;241m.\u001b[39mGET_ELEMENT_TEXT)[\u001b[38;5;124m\"\u001b[39m\u001b[38;5;124mvalue\u001b[39m\u001b[38;5;124m\"\u001b[39m]\n",
      "File \u001b[1;32m~\\AppData\\Roaming\\Python\\Python311\\site-packages\\selenium\\webdriver\\remote\\webelement.py:395\u001b[0m, in \u001b[0;36mWebElement._execute\u001b[1;34m(self, command, params)\u001b[0m\n\u001b[0;32m    393\u001b[0m     params \u001b[38;5;241m=\u001b[39m {}\n\u001b[0;32m    394\u001b[0m params[\u001b[38;5;124m\"\u001b[39m\u001b[38;5;124mid\u001b[39m\u001b[38;5;124m\"\u001b[39m] \u001b[38;5;241m=\u001b[39m \u001b[38;5;28mself\u001b[39m\u001b[38;5;241m.\u001b[39m_id\n\u001b[1;32m--> 395\u001b[0m \u001b[38;5;28;01mreturn\u001b[39;00m \u001b[38;5;28mself\u001b[39m\u001b[38;5;241m.\u001b[39m_parent\u001b[38;5;241m.\u001b[39mexecute(command, params)\n",
      "File \u001b[1;32m~\\AppData\\Roaming\\Python\\Python311\\site-packages\\selenium\\webdriver\\remote\\webdriver.py:347\u001b[0m, in \u001b[0;36mWebDriver.execute\u001b[1;34m(self, driver_command, params)\u001b[0m\n\u001b[0;32m    345\u001b[0m response \u001b[38;5;241m=\u001b[39m \u001b[38;5;28mself\u001b[39m\u001b[38;5;241m.\u001b[39mcommand_executor\u001b[38;5;241m.\u001b[39mexecute(driver_command, params)\n\u001b[0;32m    346\u001b[0m \u001b[38;5;28;01mif\u001b[39;00m response:\n\u001b[1;32m--> 347\u001b[0m     \u001b[38;5;28mself\u001b[39m\u001b[38;5;241m.\u001b[39merror_handler\u001b[38;5;241m.\u001b[39mcheck_response(response)\n\u001b[0;32m    348\u001b[0m     response[\u001b[38;5;124m\"\u001b[39m\u001b[38;5;124mvalue\u001b[39m\u001b[38;5;124m\"\u001b[39m] \u001b[38;5;241m=\u001b[39m \u001b[38;5;28mself\u001b[39m\u001b[38;5;241m.\u001b[39m_unwrap_value(response\u001b[38;5;241m.\u001b[39mget(\u001b[38;5;124m\"\u001b[39m\u001b[38;5;124mvalue\u001b[39m\u001b[38;5;124m\"\u001b[39m, \u001b[38;5;28;01mNone\u001b[39;00m))\n\u001b[0;32m    349\u001b[0m     \u001b[38;5;28;01mreturn\u001b[39;00m response\n",
      "File \u001b[1;32m~\\AppData\\Roaming\\Python\\Python311\\site-packages\\selenium\\webdriver\\remote\\errorhandler.py:229\u001b[0m, in \u001b[0;36mErrorHandler.check_response\u001b[1;34m(self, response)\u001b[0m\n\u001b[0;32m    227\u001b[0m         alert_text \u001b[38;5;241m=\u001b[39m value[\u001b[38;5;124m\"\u001b[39m\u001b[38;5;124malert\u001b[39m\u001b[38;5;124m\"\u001b[39m]\u001b[38;5;241m.\u001b[39mget(\u001b[38;5;124m\"\u001b[39m\u001b[38;5;124mtext\u001b[39m\u001b[38;5;124m\"\u001b[39m)\n\u001b[0;32m    228\u001b[0m     \u001b[38;5;28;01mraise\u001b[39;00m exception_class(message, screen, stacktrace, alert_text)  \u001b[38;5;66;03m# type: ignore[call-arg]  # mypy is not smart enough here\u001b[39;00m\n\u001b[1;32m--> 229\u001b[0m \u001b[38;5;28;01mraise\u001b[39;00m exception_class(message, screen, stacktrace)\n",
      "\u001b[1;31mStaleElementReferenceException\u001b[0m: Message: stale element reference: stale element not found\n  (Session info: chrome=122.0.6261.69); For documentation on this error, please visit: https://www.selenium.dev/documentation/webdriver/troubleshooting/errors#stale-element-reference-exception\nStacktrace:\n\tGetHandleVerifier [0x00007FF6BCF15E42+3538674]\n\t(No symbol) [0x00007FF6BCB34C02]\n\t(No symbol) [0x00007FF6BC9E5AEB]\n\t(No symbol) [0x00007FF6BC9F514B]\n\t(No symbol) [0x00007FF6BC9EB92A]\n\t(No symbol) [0x00007FF6BC9E9D10]\n\t(No symbol) [0x00007FF6BC9ED150]\n\t(No symbol) [0x00007FF6BC9ED210]\n\t(No symbol) [0x00007FF6BCA2723B]\n\t(No symbol) [0x00007FF6BCA4F0AA]\n\t(No symbol) [0x00007FF6BCA2124A]\n\t(No symbol) [0x00007FF6BCA4F2C0]\n\t(No symbol) [0x00007FF6BCA6BDE3]\n\t(No symbol) [0x00007FF6BCA4EE53]\n\t(No symbol) [0x00007FF6BCA1F514]\n\t(No symbol) [0x00007FF6BCA20631]\n\tGetHandleVerifier [0x00007FF6BCF46CAD+3738973]\n\tGetHandleVerifier [0x00007FF6BCF9C506+4089270]\n\tGetHandleVerifier [0x00007FF6BCF94823+4057299]\n\tGetHandleVerifier [0x00007FF6BCC65C49+720121]\n\t(No symbol) [0x00007FF6BCB4126F]\n\t(No symbol) [0x00007FF6BCB3C304]\n\t(No symbol) [0x00007FF6BCB3C432]\n\t(No symbol) [0x00007FF6BCB2BD04]\n\tBaseThreadInitThunk [0x00007FFB4C65257D+29]\n\tRtlUserThreadStart [0x00007FFB4D4CAA58+40]\n"
     ]
    }
   ],
   "source": [
    "for element in elements:\n",
    "    localization = element.text\n",
    "    if 'lokalizacje' in localization or 'lokalizacja' in localization:\n",
    "        print(localization)\n",
    "#         element.click()\n"
   ]
  },
  {
   "cell_type": "code",
   "execution_count": null,
   "id": "b01b5607",
   "metadata": {},
   "outputs": [],
   "source": []
  },
  {
   "cell_type": "code",
   "execution_count": null,
   "id": "4843a3d0",
   "metadata": {},
   "outputs": [],
   "source": []
  },
  {
   "cell_type": "code",
   "execution_count": null,
   "id": "f62861c5",
   "metadata": {},
   "outputs": [],
   "source": [
    "<h5 class=\"tiles_r1rl4c7t size-caption core_t1rst47b\" data-test=\"text-region\">4 lokalizacje</h5>"
   ]
  },
  {
   "cell_type": "code",
   "execution_count": 76,
   "id": "ee02efa4",
   "metadata": {},
   "outputs": [
    {
     "data": {
      "text/plain": [
       "[]"
      ]
     },
     "execution_count": 76,
     "metadata": {},
     "output_type": "execute_result"
    }
   ],
   "source": [
    "driver.find_elements(By.CSS_SELECTOR, \"h5.tiles_r1rl4c7t.size-caption.core_t1rst47b[data-test='text-region']\")"
   ]
  },
  {
   "cell_type": "code",
   "execution_count": null,
   "id": "c1f704ce",
   "metadata": {},
   "outputs": [],
   "source": []
  },
  {
   "cell_type": "code",
   "execution_count": null,
   "id": "6ce6a5e1",
   "metadata": {},
   "outputs": [],
   "source": []
  },
  {
   "cell_type": "code",
   "execution_count": null,
   "id": "528af7ca",
   "metadata": {},
   "outputs": [],
   "source": []
  },
  {
   "cell_type": "code",
   "execution_count": 50,
   "id": "c9fe8bb6",
   "metadata": {
    "scrolled": false
   },
   "outputs": [
    {
     "name": "stdout",
     "output_type": "stream",
     "text": [
      "0: Warszawa, Mokotów\n",
      "1: Wrocław, Krzyki\n",
      "2: Wrocław, Krzyki\n",
      "3: Kraków, Dębniki\n",
      "4: Wrocław, Krzyki\n",
      "5: Kraków\n",
      "6: Warszawa, Wola\n",
      "7: Miejsce pracy:Cała Polska (praca zdalna)Siedziba firmy:Warszawa, Mokotów\n",
      "8: Kraków, Grzegórzki\n",
      "9: Kraków, Grzegórzki\n",
      "10: Kraków, Prądnik Czerwony\n",
      "11: Warszawa, Praga-Południe\n",
      "12: Kraków, Dębniki\n",
      "13: Warszawa\n",
      "14: Warszawa, Żoliborz\n",
      "15: Miejsce pracy:Cała Polska (praca zdalna)Siedziba firmy:Warszawa, Praga-Północ\n",
      "16: Warszawa, Ochota\n",
      "17: Warszawa\n",
      "18: Katowice\n",
      "19: Miejsce pracy:Cała Polska (praca zdalna)Siedziba firmy:Warszawa, Wola\n",
      "20: Warszawa, Mokotów\n",
      "21: 5 lokalizacji\n",
      "22: 5 lokalizacji\n",
      "23: 5 lokalizacji\n",
      "24: 5 lokalizacji\n",
      "25: 3 lokalizacje\n",
      "26: 4 lokalizacje\n",
      "27: Miejsce pracy:Cała Polska (praca zdalna)Siedziba firmy:Warszawa, Wola\n",
      "28: Miejsce pracy:Cała Polska (praca zdalna)Siedziba firmy:Rybnik, Smolna\n",
      "29: Wrocław, Stare Miasto\n",
      "30: Warszawa\n",
      "31: Miejsce pracy:Cała Polska (praca zdalna)Siedziba firmy:5 lokalizacji\n",
      "32: Miejsce pracy:Cała Polska (praca zdalna)Siedziba firmy:Kraków\n",
      "33: 16 lokalizacji\n",
      "34: 16 lokalizacji\n",
      "35: Miejsce pracy:Cała Polska (praca zdalna)Siedziba firmy:Wrocław, Fabryczna\n",
      "36: Warszawa\n",
      "37: Kraków, Dębniki\n",
      "38: 2 lokalizacje\n",
      "39: Miejsce pracy:Cała Polska (praca zdalna)Siedziba firmy:Warszawa\n",
      "40: 2 lokalizacje\n",
      "41: Miejsce pracy:Cała Polska (praca zdalna)Siedziba firmy:Warszawa\n",
      "42: Warszawa\n",
      "43: Warszawa\n",
      "44: Warszawa\n",
      "45: Warszawa, Śródmieście\n",
      "46: Miejsce pracy:Cała Polska (praca zdalna)Siedziba firmy:Warszawa, Mokotów\n",
      "47: 2 lokalizacje\n",
      "48: Poznań, Stare Miasto\n",
      "49: 2 lokalizacje\n"
     ]
    }
   ],
   "source": [
    "i=0\n",
    "for offer in soup.find_all('div', class_=\"be8lukl core_po9665q\"):\n",
    "    whole_offer = offer.find('div', class_=\"c1fljezf\")\n",
    "    offer_details = whole_offer.find('div', class_=\"c1wygkax\")\n",
    "    location = offer_details.h5.text\n",
    "    print(f'{i}: {location}')\n",
    "    i+=1"
   ]
  },
  {
   "cell_type": "code",
   "execution_count": null,
   "id": "7d02355b",
   "metadata": {},
   "outputs": [],
   "source": []
  },
  {
   "cell_type": "code",
   "execution_count": null,
   "id": "0bab55fd",
   "metadata": {},
   "outputs": [],
   "source": []
  },
  {
   "cell_type": "code",
   "execution_count": 60,
   "id": "606ce782",
   "metadata": {},
   "outputs": [],
   "source": [
    "offer = soup.find_all('div', class_=\"be8lukl core_po9665q\")[10]\n",
    "whole_offer = offer.find('div', class_=\"c1fljezf\")\n",
    "offer_details = whole_offer.find('div', class_=\"c1wygkax\")\n",
    "keywords = whole_offer.find_all('div', class_='b1fdzgc4')\n",
    "link = offer_details.a['href']\n",
    "company = offer_details.h4.text"
   ]
  },
  {
   "cell_type": "code",
   "execution_count": 52,
   "id": "07cab8e1",
   "metadata": {},
   "outputs": [],
   "source": [
    "location = offer_details.h5.text"
   ]
  },
  {
   "cell_type": "code",
   "execution_count": 56,
   "id": "321f807a",
   "metadata": {},
   "outputs": [
    {
     "data": {
      "text/plain": [
       "''"
      ]
     },
     "execution_count": 56,
     "metadata": {},
     "output_type": "execute_result"
    }
   ],
   "source": [
    "name = offer_details.a.text\n",
    "name"
   ]
  },
  {
   "cell_type": "code",
   "execution_count": 61,
   "id": "9ff02736",
   "metadata": {},
   "outputs": [
    {
     "data": {
      "text/plain": [
       "'Automatic Speech Recognition Engineer'"
      ]
     },
     "execution_count": 61,
     "metadata": {},
     "output_type": "execute_result"
    }
   ],
   "source": [
    "# dla wielu lokalizacji\n",
    "offer_details.h2.text"
   ]
  },
  {
   "cell_type": "code",
   "execution_count": 53,
   "id": "994461fa",
   "metadata": {},
   "outputs": [
    {
     "data": {
      "text/plain": [
       "'5 lokalizacji'"
      ]
     },
     "execution_count": 53,
     "metadata": {},
     "output_type": "execute_result"
    }
   ],
   "source": [
    "offer_details.h5.text"
   ]
  },
  {
   "cell_type": "code",
   "execution_count": 54,
   "id": "70b8ef46",
   "metadata": {},
   "outputs": [
    {
     "data": {
      "text/plain": [
       "'https://pracodawcy.pracuj.pl/company/1074142237'"
      ]
     },
     "execution_count": 54,
     "metadata": {},
     "output_type": "execute_result"
    }
   ],
   "source": [
    "link"
   ]
  },
  {
   "cell_type": "code",
   "execution_count": null,
   "id": "83a9eb91",
   "metadata": {},
   "outputs": [],
   "source": [
    "# wiele loc\n",
    "<h5 class=\"tiles_r1rl4c7t size-caption core_t1rst47b\" data-test=\"text-region\">4 lokalizacje</h5>"
   ]
  },
  {
   "cell_type": "code",
   "execution_count": null,
   "id": "f5f79c67",
   "metadata": {},
   "outputs": [],
   "source": [
    "# jedna loc\n",
    "<h5 class=\"tiles_r1rl4c7t size-caption core_t1rst47b\" data-test=\"text-region\">Warszawa, Mokotów</h5>"
   ]
  },
  {
   "cell_type": "code",
   "execution_count": 64,
   "id": "9166c6be",
   "metadata": {},
   "outputs": [
    {
     "data": {
      "text/plain": [
       "[<div class=\"be8lukl core_po9665q\" data-test=\"default-offer\" data-test-location=\"single\" data-test-offerid=\"1003121552\"><div class=\"c1fljezf\"><a class=\"core_n194fgoq\" data-test=\"link-offer\" href=\"https://www.pracuj.pl/praca/senior-data-scientist-warszawa-grzybowska-87,oferta,1003121552?s=b547587c&amp;searchId=MTcwOTExNDUxMjgzMS45NzY2\"></a><div class=\"c1s2myew\"><div class=\"i35ayzj\"><div class=\"tiles_cz8pc9w\"><a class=\"core_btsqgu core_n194fgoq\" data-test=\"link-company-profile\" href=\"https://pracodawcy.pracuj.pl/company/20062259\"><picture><img alt=\"ALTEN Polska\" class=\"core_ia9ocxs\" height=\"65\" loading=\"lazy\" src=\"https://logos.gpcdn.pl/loga-firm/20062259/2c580000-43a8-f403-1fb3-08d7fbf29184_280x280.png\" width=\"65\"/></picture></a></div></div><div class=\"c13gi8t\"><div class=\"b1blp41s\"><div class=\"c1wygkax\"><div class=\"tiles_jvbgvfy\"><span class=\"super core_j1iz21zj\" data-test=\"text-super-offer\" style=\"--j1iz21zj-0:none\">Superoferta</span></div><span class=\"tiles_spqrqpy core_c1s7lqrd\" data-test=\"add-to-favourites\"><span aria-hidden=\"true\" class=\"core_ig18o8w size-medium position-center\"><svg fill=\"none\" viewbox=\"0 0 20 20\"><path d=\"M9.605 1.271a.419.419 0 0 1 .783 0l2.12 6.008h5.984a.418.418 0 0 1 .272.737l-5 4.146 2.092 6.287a.419.419 0 0 1-.644.47l-5.216-3.827-5.219 3.827a.419.419 0 0 1-.642-.47l2.093-6.287-5.001-4.146a.419.419 0 0 1 .272-.737h5.985l2.12-6.008z\" stroke=\"#676B8D\" stroke-linecap=\"round\" stroke-linejoin=\"round\" stroke-width=\"1.6\"></path></svg></span></span><p class=\"tiles_b10050bf core_pk4iags size-caption core_t1rst47b\" data-test=\"text-added\">Opublikowana: 28 lutego 2024</p><h2 class=\"tiles_b1yuv00i\" data-test=\"offer-title\"><a class=\"tiles_ojyuczp core_n194fgoq\" href=\"https://www.pracuj.pl/praca/senior-data-scientist-warszawa-grzybowska-87,oferta,1003121552?s=b547587c&amp;searchId=MTcwOTExNDUxMjgzMS45NzY2\">Senior Data Scientist</a></h2><div class=\"hide-on-mobile tiles_cegq0mb\" data-test=\"section-company\"><div class=\"tiles_cz8pc9w\"><a class=\"core_btsqgu core_n194fgoq\" data-test=\"link-company-profile\" href=\"https://pracodawcy.pracuj.pl/company/20062259\"><picture><img alt=\"ALTEN Polska\" class=\"core_ia9ocxs\" height=\"65\" loading=\"lazy\" src=\"https://logos.gpcdn.pl/loga-firm/20062259/2c580000-43a8-f403-1fb3-08d7fbf29184_280x280.png\" width=\"65\"/></picture></a></div><div class=\"tiles_czf7cy3\"><div><a class=\"core_n194fgoq\" data-test=\"link-company-profile\" href=\"https://pracodawcy.pracuj.pl/company/20062259\"><h4 class=\"tiles_e1zyaun size-caption core_t1rst47b\" data-test=\"text-company-name\">ALTEN Polska</h4></a></div><h5 class=\"tiles_ttlhhld size-caption core_t1rst47b\" data-test=\"text-region\"><span>Miejsce pracy<!-- -->:<strong>Cała Polska (praca zdalna)</strong></span><span>Siedziba firmy<!-- -->:<strong>Warszawa, Wola</strong></span></h5></div></div><ul class=\"tiles_bv2t2w7\"><li class=\"mobile-hidden tiles_iwlrcdk\" data-test=\"offer-additional-info-0\">Starszy specjalista (Senior)</li><li class=\"mobile-hidden tiles_iwlrcdk\" data-test=\"offer-additional-info-1\">Pełny etat</li><li class=\"mobile-hidden tiles_iwlrcdk\" data-test=\"offer-additional-info-2\">Umowa o pracę, Kontrakt B2B</li><li class=\"mobile-hidden tiles_iwlrcdk\" data-test=\"offer-additional-info-3\">Praca od zaraz</li><li class=\"tiles_iwlrcdk\" data-test=\"offer-additional-info-4\">Praca zdalna</li></ul></div></div><div class=\"e1v45ci3\"><div class=\"ci1jlvv\"><div class=\"b1fdzgc4\" data-test=\"technologies-list\"><span class=\"tjpooi5\" data-test=\"technologies-item\">Python</span><span class=\"tjpooi5\" data-test=\"technologies-item\">R</span><span class=\"tjpooi5\" data-test=\"technologies-item\">Scala</span></div></div><div class=\"hide-on-desktop tiles_cegq0mb\" data-test=\"section-company\"><div class=\"tiles_cz8pc9w\"><a class=\"core_btsqgu core_n194fgoq\" data-test=\"link-company-profile\" href=\"https://pracodawcy.pracuj.pl/company/20062259\"><picture><img alt=\"ALTEN Polska\" class=\"core_ia9ocxs\" height=\"65\" loading=\"lazy\" src=\"https://logos.gpcdn.pl/loga-firm/20062259/2c580000-43a8-f403-1fb3-08d7fbf29184_280x280.png\" width=\"65\"/></picture></a></div><div class=\"tiles_czf7cy3\"><div><a class=\"core_n194fgoq\" data-test=\"link-company-profile\" href=\"https://pracodawcy.pracuj.pl/company/20062259\"><h4 class=\"tiles_e1zyaun size-caption core_t1rst47b\" data-test=\"text-company-name\">ALTEN Polska</h4></a></div><h5 class=\"tiles_ttlhhld size-caption core_t1rst47b\" data-test=\"text-region\"><span>Miejsce pracy<!-- -->:<strong>Cała Polska (praca zdalna)</strong></span><span>Siedziba firmy<!-- -->:<strong>Warszawa, Wola</strong></span></h5></div></div></div></div></div></div></div>,\n",
       " <div class=\"be8lukl core_po9665q\" data-test=\"default-offer\" data-test-location=\"single\" data-test-offerid=\"1003179037\"><div class=\"c1fljezf\"><a class=\"core_n194fgoq\" data-test=\"link-offer\" href=\"https://www.pracuj.pl/praca/specjalista-ds-narzedzi-i-analiz-bi-warszawa-pulawska-15,oferta,1003179037?s=b547587c&amp;searchId=MTcwOTExNDUxMjgzMS45NzY2\"></a><div class=\"c1s2myew\"><div class=\"i35ayzj\"><div class=\"tiles_cz8pc9w\"><a class=\"core_btsqgu core_n194fgoq\" data-test=\"link-company-profile\" href=\"https://pracodawcy.pracuj.pl/company/20008525\"><picture><img alt=\"PKO Bank Polski SA\" class=\"core_ia9ocxs\" height=\"65\" loading=\"lazy\" src=\"https://logos.gpcdn.pl/loga-firm/20008525/03000000-bb2f-3863-a8bc-08d8e2ef4706_280x280.png\" width=\"65\"/></picture></a></div></div><div class=\"c13gi8t\"><div class=\"b1blp41s\"><div class=\"c1wygkax\"><span class=\"tiles_spqrqpy core_c1s7lqrd\" data-test=\"add-to-favourites\"><span aria-hidden=\"true\" class=\"core_ig18o8w size-medium position-center\"><svg fill=\"none\" viewbox=\"0 0 20 20\"><path d=\"M9.605 1.271a.419.419 0 0 1 .783 0l2.12 6.008h5.984a.418.418 0 0 1 .272.737l-5 4.146 2.092 6.287a.419.419 0 0 1-.644.47l-5.216-3.827-5.219 3.827a.419.419 0 0 1-.642-.47l2.093-6.287-5.001-4.146a.419.419 0 0 1 .272-.737h5.985l2.12-6.008z\" stroke=\"#676B8D\" stroke-linecap=\"round\" stroke-linejoin=\"round\" stroke-width=\"1.6\"></path></svg></span></span><p class=\"tiles_b10050bf core_pk4iags size-caption core_t1rst47b\" data-test=\"text-added\">Opublikowana: 28 lutego 2024</p><h2 class=\"tiles_b1yuv00i\" data-test=\"offer-title\"><a class=\"tiles_ojyuczp core_n194fgoq\" href=\"https://www.pracuj.pl/praca/specjalista-ds-narzedzi-i-analiz-bi-warszawa-pulawska-15,oferta,1003179037?s=b547587c&amp;searchId=MTcwOTExNDUxMjgzMS45NzY2\">Specjalista ds. Narzędzi i Analiz BI</a></h2><div class=\"hide-on-mobile tiles_cegq0mb\" data-test=\"section-company\"><div class=\"tiles_cz8pc9w\"><a class=\"core_btsqgu core_n194fgoq\" data-test=\"link-company-profile\" href=\"https://pracodawcy.pracuj.pl/company/20008525\"><picture><img alt=\"PKO Bank Polski SA\" class=\"core_ia9ocxs\" height=\"65\" loading=\"lazy\" src=\"https://logos.gpcdn.pl/loga-firm/20008525/03000000-bb2f-3863-a8bc-08d8e2ef4706_280x280.png\" width=\"65\"/></picture></a></div><div class=\"tiles_czf7cy3\"><div><a class=\"core_n194fgoq\" data-test=\"link-company-profile\" href=\"https://pracodawcy.pracuj.pl/company/20008525\"><h4 class=\"tiles_e1zyaun size-caption core_t1rst47b\" data-test=\"text-company-name\">PKO Bank Polski SA</h4></a></div><h5 class=\"tiles_r1rl4c7t size-caption core_t1rst47b\" data-test=\"text-region\">Warszawa, Mokotów</h5></div></div><ul class=\"tiles_bv2t2w7\"><li class=\"mobile-hidden tiles_iwlrcdk\" data-test=\"offer-additional-info-0\">Specjalista (Mid / Regular), Starszy specjalista (Senior)</li><li class=\"mobile-hidden tiles_iwlrcdk\" data-test=\"offer-additional-info-1\">Pełny etat</li><li class=\"mobile-hidden tiles_iwlrcdk\" data-test=\"offer-additional-info-2\">Umowa o pracę</li><li class=\"tiles_iwlrcdk\" data-test=\"offer-additional-info-3\">Praca hybrydowa</li></ul></div></div><div class=\"e1v45ci3\"><div class=\"ci1jlvv\"><div class=\"b1fdzgc4\" data-test=\"technologies-list\"><span class=\"tjpooi5\" data-test=\"technologies-item\">Python</span><span class=\"tjpooi5\" data-test=\"technologies-item\">SQL</span></div></div><div class=\"hide-on-desktop tiles_cegq0mb\" data-test=\"section-company\"><div class=\"tiles_cz8pc9w\"><a class=\"core_btsqgu core_n194fgoq\" data-test=\"link-company-profile\" href=\"https://pracodawcy.pracuj.pl/company/20008525\"><picture><img alt=\"PKO Bank Polski SA\" class=\"core_ia9ocxs\" height=\"65\" loading=\"lazy\" src=\"https://logos.gpcdn.pl/loga-firm/20008525/03000000-bb2f-3863-a8bc-08d8e2ef4706_280x280.png\" width=\"65\"/></picture></a></div><div class=\"tiles_czf7cy3\"><div><a class=\"core_n194fgoq\" data-test=\"link-company-profile\" href=\"https://pracodawcy.pracuj.pl/company/20008525\"><h4 class=\"tiles_e1zyaun size-caption core_t1rst47b\" data-test=\"text-company-name\">PKO Bank Polski SA</h4></a></div><h5 class=\"tiles_r1rl4c7t size-caption core_t1rst47b\" data-test=\"text-region\">Warszawa, Mokotów</h5></div></div></div></div></div></div></div>,\n",
       " <div class=\"be8lukl core_po9665q\" data-test=\"default-offer\" data-test-location=\"multiple\" data-test-offerid=\"1003128090\"><div class=\"c1fljezf\"><div class=\"c1s2myew\"><div class=\"i35ayzj\"><div class=\"tiles_cz8pc9w\"><a class=\"core_btsqgu core_n194fgoq\" data-test=\"link-company-profile\" href=\"https://pracodawcy.pracuj.pl/company/1074142237\"><picture><img alt=\"MindPal\" class=\"core_ia9ocxs\" height=\"65\" loading=\"lazy\" src=\"https://logos.gpcdn.pl/loga-firm/1074142237/2da80000-56be-0050-4364-08dc1cf67cbe_280x280.jpg\" width=\"65\"/></picture></a></div></div><div class=\"c13gi8t\"><div class=\"b1blp41s\"><div class=\"c1wygkax\"><div class=\"tiles_jvbgvfy\"><span class=\"super core_j1iz21zj\" data-test=\"text-super-offer\" style=\"--j1iz21zj-0:none\">Superoferta</span></div><p class=\"tiles_b10050bf core_pk4iags size-caption core_t1rst47b\" data-test=\"text-added\">Opublikowana: 28 lutego 2024</p><h2 class=\"tiles_b1yuv00i\" data-test=\"offer-title\">Mid Python Developer - German language</h2><span class=\"s1jki39v\" data-test=\"offer-salary\">8 000–16 000 zł netto (+ VAT) / mies.</span><div class=\"hide-on-mobile tiles_cegq0mb\" data-test=\"section-company\"><div class=\"tiles_cz8pc9w\"><a class=\"core_btsqgu core_n194fgoq\" data-test=\"link-company-profile\" href=\"https://pracodawcy.pracuj.pl/company/1074142237\"><picture><img alt=\"MindPal\" class=\"core_ia9ocxs\" height=\"65\" loading=\"lazy\" src=\"https://logos.gpcdn.pl/loga-firm/1074142237/2da80000-56be-0050-4364-08dc1cf67cbe_280x280.jpg\" width=\"65\"/></picture></a></div><div class=\"tiles_czf7cy3\"><div><a class=\"core_n194fgoq\" data-test=\"link-company-profile\" href=\"https://pracodawcy.pracuj.pl/company/1074142237\"><h4 class=\"tiles_e1zyaun size-caption core_t1rst47b\" data-test=\"text-company-name\">MindPal</h4></a></div><h5 class=\"tiles_r1rl4c7t size-caption core_t1rst47b\" data-test=\"text-region\">5 lokalizacji</h5></div></div><ul class=\"tiles_bv2t2w7\"><li class=\"mobile-hidden tiles_iwlrcdk\" data-test=\"offer-additional-info-0\">Specjalista (Mid / Regular), Starszy specjalista (Senior)</li><li class=\"mobile-hidden tiles_iwlrcdk\" data-test=\"offer-additional-info-1\">Pełny etat</li><li class=\"mobile-hidden tiles_iwlrcdk\" data-test=\"offer-additional-info-2\">Kontrakt B2B</li><li class=\"tiles_iwlrcdk\" data-test=\"offer-additional-info-3\">Praca zdalna</li></ul></div></div><div class=\"e1v45ci3\"><div class=\"ci1jlvv\"><div class=\"b1fdzgc4\" data-test=\"technologies-list\"><span class=\"tjpooi5\" data-test=\"technologies-item\">Git</span><span class=\"tjpooi5\" data-test=\"technologies-item\">Django</span><span class=\"tjpooi5\" data-test=\"technologies-item\">Docker</span><span class=\"tjpooi5\" data-test=\"technologies-item\">Flask</span><span class=\"tjpooi5\" data-test=\"technologies-item\">PostgreSQL</span><span class=\"tjpooi5\" data-test=\"technologies-item\">Redis</span><span class=\"tjpooi5\" data-test=\"technologies-item\">Python</span></div></div><div class=\"c8q75uh\" data-test=\"section-about-project\"><div class=\"h16psshu\"><div class=\"t1xzf933\">O projekcie</div><span class=\"muyx9rh core_c1s7lqrd\" data-test=\"button-expand-about-project\"><span aria-hidden=\"true\" class=\"core_ig18o8w size-medium position-center\"><svg fill=\"none\" viewbox=\"0 0 24 24\"><path d=\"m6.5 9.25 5.5 5.5 5.5-5.5\" stroke=\"#676B8D\" stroke-linecap=\"round\" stroke-linejoin=\"round\" stroke-width=\"2\"></path></svg></span></span></div><div class=\"invisible b1v213kq\"><span class=\"t126uk2l\">We are looking for a mid/senior Python Developer with German language.</span></div></div><div class=\"hide-on-desktop tiles_cegq0mb\" data-test=\"section-company\"><div class=\"tiles_cz8pc9w\"><a class=\"core_btsqgu core_n194fgoq\" data-test=\"link-company-profile\" href=\"https://pracodawcy.pracuj.pl/company/1074142237\"><picture><img alt=\"MindPal\" class=\"core_ia9ocxs\" height=\"65\" loading=\"lazy\" src=\"https://logos.gpcdn.pl/loga-firm/1074142237/2da80000-56be-0050-4364-08dc1cf67cbe_280x280.jpg\" width=\"65\"/></picture></a></div><div class=\"tiles_czf7cy3\"><div><a class=\"core_n194fgoq\" data-test=\"link-company-profile\" href=\"https://pracodawcy.pracuj.pl/company/1074142237\"><h4 class=\"tiles_e1zyaun size-caption core_t1rst47b\" data-test=\"text-company-name\">MindPal</h4></a></div><h5 class=\"tiles_r1rl4c7t size-caption core_t1rst47b\" data-test=\"text-region\">5 lokalizacji</h5></div></div></div></div></div></div></div>]"
      ]
     },
     "execution_count": 64,
     "metadata": {},
     "output_type": "execute_result"
    }
   ],
   "source": [
    "soup.find_all('div', class_=\"be8lukl core_po9665q\")[19:22]"
   ]
  },
  {
   "cell_type": "code",
   "execution_count": null,
   "id": "8b3c5471",
   "metadata": {},
   "outputs": [],
   "source": []
  }
 ],
 "metadata": {
  "kernelspec": {
   "display_name": "Python 3 (ipykernel)",
   "language": "python",
   "name": "python3"
  },
  "language_info": {
   "codemirror_mode": {
    "name": "ipython",
    "version": 3
   },
   "file_extension": ".py",
   "mimetype": "text/x-python",
   "name": "python",
   "nbconvert_exporter": "python",
   "pygments_lexer": "ipython3",
   "version": "3.11.5"
  },
  "toc": {
   "base_numbering": 1,
   "nav_menu": {},
   "number_sections": true,
   "sideBar": true,
   "skip_h1_title": true,
   "title_cell": "Table of Contents",
   "title_sidebar": "Contents",
   "toc_cell": false,
   "toc_position": {},
   "toc_section_display": true,
   "toc_window_display": false
  },
  "varInspector": {
   "cols": {
    "lenName": 16,
    "lenType": 16,
    "lenVar": 40
   },
   "kernels_config": {
    "python": {
     "delete_cmd_postfix": "",
     "delete_cmd_prefix": "del ",
     "library": "var_list.py",
     "varRefreshCmd": "print(var_dic_list())"
    },
    "r": {
     "delete_cmd_postfix": ") ",
     "delete_cmd_prefix": "rm(",
     "library": "var_list.r",
     "varRefreshCmd": "cat(var_dic_list()) "
    }
   },
   "types_to_exclude": [
    "module",
    "function",
    "builtin_function_or_method",
    "instance",
    "_Feature"
   ],
   "window_display": false
  }
 },
 "nbformat": 4,
 "nbformat_minor": 5
}
